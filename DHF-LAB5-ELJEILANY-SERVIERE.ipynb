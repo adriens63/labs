{
 "cells": [
  {
   "cell_type": "code",
   "execution_count": 49,
   "metadata": {},
   "outputs": [
    {
     "name": "stderr",
     "output_type": "stream",
     "text": [
      "In file included from /usr/local/lib/python3.8/site-packages/numpy/core/include/numpy/ndarraytypes.h:1948,\n",
      "                 from /usr/local/lib/python3.8/site-packages/numpy/core/include/numpy/ndarrayobject.h:12,\n",
      "                 from /usr/local/lib/python3.8/site-packages/numpy/core/include/numpy/arrayobject.h:5,\n",
      "                 from /root/.pyxbld/temp.linux-x86_64-3.8/pyrex/Hawkes/Hawkes_C.c:746:\n",
      "/usr/local/lib/python3.8/site-packages/numpy/core/include/numpy/npy_1_7_deprecated_api.h:17:2: warning: #warning \"Using deprecated NumPy API, disable it with \" \"#define NPY_NO_DEPRECATED_API NPY_1_7_API_VERSION\" [-Wcpp]\n",
      "   17 | #warning \"Using deprecated NumPy API, disable it with \" \\\n",
      "      |  ^~~~~~~\n"
     ]
    }
   ],
   "source": [
    "import pandas as pd\n",
    "import numpy as np\n",
    "import os.path as osp\n",
    "import matplotlib.pyplot as plt\n",
    "import seaborn as sns\n",
    "from pandas.plotting import register_matplotlib_converters\n",
    "from typing import List, Callable\n",
    "from scipy import stats\n",
    "import timeit\n",
    "import copy\n",
    "import os\n",
    "import Hawkes as hk\n",
    "from datetime import datetime as dt"
   ]
  },
  {
   "cell_type": "code",
   "execution_count": 6,
   "metadata": {},
   "outputs": [],
   "source": [
    "register_matplotlib_converters()\n",
    "sns.set()"
   ]
  },
  {
   "attachments": {},
   "cell_type": "markdown",
   "metadata": {},
   "source": [
    "▶ All graphs should have a legend, a title, labeled x-axis and y-axis with units if applicable.  \n",
    "▶ Don’t plot log of (physical) quantities. Please use log scales instead.  \n",
    "Don’t leave plot randomly in the notebook without context. Please indicate question\n",
    "numbers and comment on your results if necessary (especially if they are not what you\n",
    "were expecting).  \n",
    "\n",
    "Do not use seaborn.\n",
    "\n",
    "\n",
    "\n",
    "TODO: adapt the legend with plt.legend, or put proper names during the computations.  \n",
    "explain the graphs like in an article."
   ]
  },
  {
   "attachments": {},
   "cell_type": "markdown",
   "metadata": {},
   "source": [
    "# Simulation of homogeneous Poisson Processes."
   ]
  },
  {
   "cell_type": "code",
   "execution_count": 62,
   "metadata": {},
   "outputs": [],
   "source": [
    "## list the files in the directory\n",
    "data_files_list = os.listdir(\"Data/RENA.PA/\")\n",
    "data_files_list = [f for f in data_files_list if \"trades\" in f]\n",
    "## import each day as a pandas DF in a dictionary\n",
    "data_dict = {i : pd.read_csv(\"Data/RENA.PA/\"+f, index_col = 0) for i,f in zip(range(len(data_files_list)),data_files_list) }"
   ]
  },
  {
   "cell_type": "code",
   "execution_count": 63,
   "metadata": {},
   "outputs": [
    {
     "data": {
      "text/html": [
       "<div>\n",
       "<style scoped>\n",
       "    .dataframe tbody tr th:only-of-type {\n",
       "        vertical-align: middle;\n",
       "    }\n",
       "\n",
       "    .dataframe tbody tr th {\n",
       "        vertical-align: top;\n",
       "    }\n",
       "\n",
       "    .dataframe thead th {\n",
       "        text-align: right;\n",
       "    }\n",
       "</style>\n",
       "<table border=\"1\" class=\"dataframe\">\n",
       "  <thead>\n",
       "    <tr style=\"text-align: right;\">\n",
       "      <th></th>\n",
       "      <th>ts</th>\n",
       "      <th>price</th>\n",
       "      <th>volume</th>\n",
       "    </tr>\n",
       "  </thead>\n",
       "  <tbody>\n",
       "    <tr>\n",
       "      <th>0</th>\n",
       "      <td>2017-01-02 09:01:15.893</td>\n",
       "      <td>84.31</td>\n",
       "      <td>90</td>\n",
       "    </tr>\n",
       "    <tr>\n",
       "      <th>1</th>\n",
       "      <td>2017-01-02 09:01:15.893</td>\n",
       "      <td>84.31</td>\n",
       "      <td>10</td>\n",
       "    </tr>\n",
       "    <tr>\n",
       "      <th>2</th>\n",
       "      <td>2017-01-02 09:01:18.813</td>\n",
       "      <td>84.31</td>\n",
       "      <td>12</td>\n",
       "    </tr>\n",
       "    <tr>\n",
       "      <th>3</th>\n",
       "      <td>2017-01-02 09:01:52.432</td>\n",
       "      <td>84.31</td>\n",
       "      <td>38</td>\n",
       "    </tr>\n",
       "    <tr>\n",
       "      <th>4</th>\n",
       "      <td>2017-01-02 09:01:52.452</td>\n",
       "      <td>84.31</td>\n",
       "      <td>62</td>\n",
       "    </tr>\n",
       "    <tr>\n",
       "      <th>5</th>\n",
       "      <td>2017-01-02 09:02:59.009</td>\n",
       "      <td>84.29</td>\n",
       "      <td>60</td>\n",
       "    </tr>\n",
       "    <tr>\n",
       "      <th>6</th>\n",
       "      <td>2017-01-02 09:02:59.009</td>\n",
       "      <td>84.29</td>\n",
       "      <td>64</td>\n",
       "    </tr>\n",
       "    <tr>\n",
       "      <th>7</th>\n",
       "      <td>2017-01-02 09:03:49.157</td>\n",
       "      <td>84.29</td>\n",
       "      <td>11</td>\n",
       "    </tr>\n",
       "    <tr>\n",
       "      <th>8</th>\n",
       "      <td>2017-01-02 09:05:11.114</td>\n",
       "      <td>84.23</td>\n",
       "      <td>1</td>\n",
       "    </tr>\n",
       "    <tr>\n",
       "      <th>9</th>\n",
       "      <td>2017-01-02 09:06:15.871</td>\n",
       "      <td>84.29</td>\n",
       "      <td>25</td>\n",
       "    </tr>\n",
       "  </tbody>\n",
       "</table>\n",
       "</div>"
      ],
      "text/plain": [
       "                        ts  price  volume\n",
       "0  2017-01-02 09:01:15.893  84.31      90\n",
       "1  2017-01-02 09:01:15.893  84.31      10\n",
       "2  2017-01-02 09:01:18.813  84.31      12\n",
       "3  2017-01-02 09:01:52.432  84.31      38\n",
       "4  2017-01-02 09:01:52.452  84.31      62\n",
       "5  2017-01-02 09:02:59.009  84.29      60\n",
       "6  2017-01-02 09:02:59.009  84.29      64\n",
       "7  2017-01-02 09:03:49.157  84.29      11\n",
       "8  2017-01-02 09:05:11.114  84.23       1\n",
       "9  2017-01-02 09:06:15.871  84.29      25"
      ]
     },
     "execution_count": 63,
     "metadata": {},
     "output_type": "execute_result"
    }
   ],
   "source": [
    "data_dict[0].head(10)"
   ]
  },
  {
   "cell_type": "code",
   "execution_count": 64,
   "metadata": {},
   "outputs": [],
   "source": [
    "for _, df in data_dict.items():\n",
    "    df['ts'] = pd.to_datetime(df[\"ts\"])"
   ]
  },
  {
   "cell_type": "code",
   "execution_count": 65,
   "metadata": {},
   "outputs": [],
   "source": [
    "num_days = 4"
   ]
  },
  {
   "cell_type": "code",
   "execution_count": 66,
   "metadata": {},
   "outputs": [],
   "source": [
    "df_t= data_dict[0] # TODO change"
   ]
  },
  {
   "cell_type": "code",
   "execution_count": 69,
   "metadata": {},
   "outputs": [],
   "source": [
    "df = pd.DataFrame({'date1':pd.date_range('2015-01-01', periods=3),\n",
    "                   'date2':pd.date_range('2015-01-01 02:00:00', periods=3, freq='23H')})"
   ]
  },
  {
   "cell_type": "code",
   "execution_count": 70,
   "metadata": {},
   "outputs": [],
   "source": [
    "df['diff'] = df['date2'] - df['date1']\n",
    "df['seconds'] = df['diff'].dt.total_seconds()"
   ]
  },
  {
   "cell_type": "code",
   "execution_count": 71,
   "metadata": {},
   "outputs": [
    {
     "data": {
      "text/plain": [
       "date1       datetime64[ns]\n",
       "date2       datetime64[ns]\n",
       "diff       timedelta64[ns]\n",
       "seconds            float64\n",
       "dtype: object"
      ]
     },
     "execution_count": 71,
     "metadata": {},
     "output_type": "execute_result"
    }
   ],
   "source": [
    "df.dtypes"
   ]
  },
  {
   "cell_type": "code",
   "execution_count": 74,
   "metadata": {},
   "outputs": [
    {
     "data": {
      "text/html": [
       "<div>\n",
       "<style scoped>\n",
       "    .dataframe tbody tr th:only-of-type {\n",
       "        vertical-align: middle;\n",
       "    }\n",
       "\n",
       "    .dataframe tbody tr th {\n",
       "        vertical-align: top;\n",
       "    }\n",
       "\n",
       "    .dataframe thead th {\n",
       "        text-align: right;\n",
       "    }\n",
       "</style>\n",
       "<table border=\"1\" class=\"dataframe\">\n",
       "  <thead>\n",
       "    <tr style=\"text-align: right;\">\n",
       "      <th></th>\n",
       "      <th>date1</th>\n",
       "      <th>date2</th>\n",
       "      <th>diff</th>\n",
       "      <th>seconds</th>\n",
       "    </tr>\n",
       "  </thead>\n",
       "  <tbody>\n",
       "    <tr>\n",
       "      <th>0</th>\n",
       "      <td>2015-01-01</td>\n",
       "      <td>2015-01-01 02:00:00</td>\n",
       "      <td>0 days 02:00:00</td>\n",
       "      <td>7200.0</td>\n",
       "    </tr>\n",
       "    <tr>\n",
       "      <th>1</th>\n",
       "      <td>2015-01-02</td>\n",
       "      <td>2015-01-02 01:00:00</td>\n",
       "      <td>0 days 01:00:00</td>\n",
       "      <td>3600.0</td>\n",
       "    </tr>\n",
       "    <tr>\n",
       "      <th>2</th>\n",
       "      <td>2015-01-03</td>\n",
       "      <td>2015-01-03 00:00:00</td>\n",
       "      <td>0 days 00:00:00</td>\n",
       "      <td>0.0</td>\n",
       "    </tr>\n",
       "  </tbody>\n",
       "</table>\n",
       "</div>"
      ],
      "text/plain": [
       "       date1               date2            diff  seconds\n",
       "0 2015-01-01 2015-01-01 02:00:00 0 days 02:00:00   7200.0\n",
       "1 2015-01-02 2015-01-02 01:00:00 0 days 01:00:00   3600.0\n",
       "2 2015-01-03 2015-01-03 00:00:00 0 days 00:00:00      0.0"
      ]
     },
     "execution_count": 74,
     "metadata": {},
     "output_type": "execute_result"
    }
   ],
   "source": [
    "df"
   ]
  },
  {
   "cell_type": "code",
   "execution_count": null,
   "metadata": {},
   "outputs": [],
   "source": []
  },
  {
   "cell_type": "code",
   "execution_count": null,
   "metadata": {},
   "outputs": [],
   "source": []
  },
  {
   "cell_type": "code",
   "execution_count": null,
   "metadata": {},
   "outputs": [],
   "source": []
  },
  {
   "cell_type": "code",
   "execution_count": 75,
   "metadata": {},
   "outputs": [
    {
     "data": {
      "text/html": [
       "<div>\n",
       "<style scoped>\n",
       "    .dataframe tbody tr th:only-of-type {\n",
       "        vertical-align: middle;\n",
       "    }\n",
       "\n",
       "    .dataframe tbody tr th {\n",
       "        vertical-align: top;\n",
       "    }\n",
       "\n",
       "    .dataframe thead th {\n",
       "        text-align: right;\n",
       "    }\n",
       "</style>\n",
       "<table border=\"1\" class=\"dataframe\">\n",
       "  <thead>\n",
       "    <tr style=\"text-align: right;\">\n",
       "      <th></th>\n",
       "      <th>ts</th>\n",
       "      <th>price</th>\n",
       "      <th>volume</th>\n",
       "    </tr>\n",
       "  </thead>\n",
       "  <tbody>\n",
       "    <tr>\n",
       "      <th>0</th>\n",
       "      <td>2017-01-02 09:01:15.893</td>\n",
       "      <td>84.31</td>\n",
       "      <td>90</td>\n",
       "    </tr>\n",
       "    <tr>\n",
       "      <th>1</th>\n",
       "      <td>2017-01-02 09:01:15.893</td>\n",
       "      <td>84.31</td>\n",
       "      <td>10</td>\n",
       "    </tr>\n",
       "    <tr>\n",
       "      <th>2</th>\n",
       "      <td>2017-01-02 09:01:18.813</td>\n",
       "      <td>84.31</td>\n",
       "      <td>12</td>\n",
       "    </tr>\n",
       "    <tr>\n",
       "      <th>3</th>\n",
       "      <td>2017-01-02 09:01:52.432</td>\n",
       "      <td>84.31</td>\n",
       "      <td>38</td>\n",
       "    </tr>\n",
       "    <tr>\n",
       "      <th>4</th>\n",
       "      <td>2017-01-02 09:01:52.452</td>\n",
       "      <td>84.31</td>\n",
       "      <td>62</td>\n",
       "    </tr>\n",
       "  </tbody>\n",
       "</table>\n",
       "</div>"
      ],
      "text/plain": [
       "                       ts  price  volume\n",
       "0 2017-01-02 09:01:15.893  84.31      90\n",
       "1 2017-01-02 09:01:15.893  84.31      10\n",
       "2 2017-01-02 09:01:18.813  84.31      12\n",
       "3 2017-01-02 09:01:52.432  84.31      38\n",
       "4 2017-01-02 09:01:52.452  84.31      62"
      ]
     },
     "execution_count": 75,
     "metadata": {},
     "output_type": "execute_result"
    }
   ],
   "source": [
    "df_t.head()"
   ]
  },
  {
   "cell_type": "code",
   "execution_count": 76,
   "metadata": {},
   "outputs": [
    {
     "data": {
      "text/plain": [
       "ts        datetime64[ns]\n",
       "price            float64\n",
       "volume             int64\n",
       "dtype: object"
      ]
     },
     "execution_count": 76,
     "metadata": {},
     "output_type": "execute_result"
    }
   ],
   "source": [
    "df_t.dtypes"
   ]
  },
  {
   "cell_type": "code",
   "execution_count": 78,
   "metadata": {},
   "outputs": [
    {
     "data": {
      "text/plain": [
       "Timestamp('2017-01-02 09:01:15.893000')"
      ]
     },
     "execution_count": 78,
     "metadata": {},
     "output_type": "execute_result"
    }
   ],
   "source": [
    "initial_time = df_t.iloc[0,0]\n",
    "initial_time"
   ]
  },
  {
   "cell_type": "code",
   "execution_count": 82,
   "metadata": {},
   "outputs": [
    {
     "data": {
      "text/html": [
       "<div>\n",
       "<style scoped>\n",
       "    .dataframe tbody tr th:only-of-type {\n",
       "        vertical-align: middle;\n",
       "    }\n",
       "\n",
       "    .dataframe tbody tr th {\n",
       "        vertical-align: top;\n",
       "    }\n",
       "\n",
       "    .dataframe thead th {\n",
       "        text-align: right;\n",
       "    }\n",
       "</style>\n",
       "<table border=\"1\" class=\"dataframe\">\n",
       "  <thead>\n",
       "    <tr style=\"text-align: right;\">\n",
       "      <th></th>\n",
       "      <th>ts</th>\n",
       "      <th>price</th>\n",
       "      <th>volume</th>\n",
       "      <th>events</th>\n",
       "      <th>diff</th>\n",
       "    </tr>\n",
       "  </thead>\n",
       "  <tbody>\n",
       "    <tr>\n",
       "      <th>0</th>\n",
       "      <td>2017-01-02 09:01:15.893</td>\n",
       "      <td>84.31</td>\n",
       "      <td>90</td>\n",
       "      <td>0 days</td>\n",
       "      <td>0 days</td>\n",
       "    </tr>\n",
       "    <tr>\n",
       "      <th>1</th>\n",
       "      <td>2017-01-02 09:01:15.893</td>\n",
       "      <td>84.31</td>\n",
       "      <td>10</td>\n",
       "      <td>0 days</td>\n",
       "      <td>0 days</td>\n",
       "    </tr>\n",
       "  </tbody>\n",
       "</table>\n",
       "</div>"
      ],
      "text/plain": [
       "                       ts  price  volume events   diff\n",
       "0 2017-01-02 09:01:15.893  84.31      90 0 days 0 days\n",
       "1 2017-01-02 09:01:15.893  84.31      10 0 days 0 days"
      ]
     },
     "execution_count": 82,
     "metadata": {},
     "output_type": "execute_result"
    }
   ],
   "source": [
    "df_t['diff'] = df_t['ts'] - initial_time\n",
    "df_t.head(2)"
   ]
  },
  {
   "cell_type": "code",
   "execution_count": 83,
   "metadata": {},
   "outputs": [
    {
     "data": {
      "text/plain": [
       "ts         datetime64[ns]\n",
       "price             float64\n",
       "volume              int64\n",
       "events    timedelta64[ns]\n",
       "diff      timedelta64[ns]\n",
       "dtype: object"
      ]
     },
     "execution_count": 83,
     "metadata": {},
     "output_type": "execute_result"
    }
   ],
   "source": [
    "df_t.dtypes"
   ]
  },
  {
   "cell_type": "code",
   "execution_count": 86,
   "metadata": {},
   "outputs": [],
   "source": [
    "df_t['events'] = df_t['diff'].dt.total_seconds()"
   ]
  },
  {
   "cell_type": "code",
   "execution_count": 88,
   "metadata": {},
   "outputs": [
    {
     "data": {
      "text/html": [
       "<div>\n",
       "<style scoped>\n",
       "    .dataframe tbody tr th:only-of-type {\n",
       "        vertical-align: middle;\n",
       "    }\n",
       "\n",
       "    .dataframe tbody tr th {\n",
       "        vertical-align: top;\n",
       "    }\n",
       "\n",
       "    .dataframe thead th {\n",
       "        text-align: right;\n",
       "    }\n",
       "</style>\n",
       "<table border=\"1\" class=\"dataframe\">\n",
       "  <thead>\n",
       "    <tr style=\"text-align: right;\">\n",
       "      <th></th>\n",
       "      <th>ts</th>\n",
       "      <th>price</th>\n",
       "      <th>volume</th>\n",
       "      <th>events</th>\n",
       "      <th>diff</th>\n",
       "    </tr>\n",
       "  </thead>\n",
       "  <tbody>\n",
       "    <tr>\n",
       "      <th>0</th>\n",
       "      <td>2017-01-02 09:01:15.893</td>\n",
       "      <td>84.31</td>\n",
       "      <td>90</td>\n",
       "      <td>0.000</td>\n",
       "      <td>0 days 00:00:00</td>\n",
       "    </tr>\n",
       "    <tr>\n",
       "      <th>1</th>\n",
       "      <td>2017-01-02 09:01:15.893</td>\n",
       "      <td>84.31</td>\n",
       "      <td>10</td>\n",
       "      <td>0.000</td>\n",
       "      <td>0 days 00:00:00</td>\n",
       "    </tr>\n",
       "    <tr>\n",
       "      <th>2</th>\n",
       "      <td>2017-01-02 09:01:18.813</td>\n",
       "      <td>84.31</td>\n",
       "      <td>12</td>\n",
       "      <td>2.920</td>\n",
       "      <td>0 days 00:00:02.920000</td>\n",
       "    </tr>\n",
       "    <tr>\n",
       "      <th>3</th>\n",
       "      <td>2017-01-02 09:01:52.432</td>\n",
       "      <td>84.31</td>\n",
       "      <td>38</td>\n",
       "      <td>36.539</td>\n",
       "      <td>0 days 00:00:36.539000</td>\n",
       "    </tr>\n",
       "    <tr>\n",
       "      <th>4</th>\n",
       "      <td>2017-01-02 09:01:52.452</td>\n",
       "      <td>84.31</td>\n",
       "      <td>62</td>\n",
       "      <td>36.559</td>\n",
       "      <td>0 days 00:00:36.559000</td>\n",
       "    </tr>\n",
       "    <tr>\n",
       "      <th>5</th>\n",
       "      <td>2017-01-02 09:02:59.009</td>\n",
       "      <td>84.29</td>\n",
       "      <td>60</td>\n",
       "      <td>103.116</td>\n",
       "      <td>0 days 00:01:43.116000</td>\n",
       "    </tr>\n",
       "    <tr>\n",
       "      <th>6</th>\n",
       "      <td>2017-01-02 09:02:59.009</td>\n",
       "      <td>84.29</td>\n",
       "      <td>64</td>\n",
       "      <td>103.116</td>\n",
       "      <td>0 days 00:01:43.116000</td>\n",
       "    </tr>\n",
       "    <tr>\n",
       "      <th>7</th>\n",
       "      <td>2017-01-02 09:03:49.157</td>\n",
       "      <td>84.29</td>\n",
       "      <td>11</td>\n",
       "      <td>153.264</td>\n",
       "      <td>0 days 00:02:33.264000</td>\n",
       "    </tr>\n",
       "    <tr>\n",
       "      <th>8</th>\n",
       "      <td>2017-01-02 09:05:11.114</td>\n",
       "      <td>84.23</td>\n",
       "      <td>1</td>\n",
       "      <td>235.221</td>\n",
       "      <td>0 days 00:03:55.221000</td>\n",
       "    </tr>\n",
       "    <tr>\n",
       "      <th>9</th>\n",
       "      <td>2017-01-02 09:06:15.871</td>\n",
       "      <td>84.29</td>\n",
       "      <td>25</td>\n",
       "      <td>299.978</td>\n",
       "      <td>0 days 00:04:59.978000</td>\n",
       "    </tr>\n",
       "    <tr>\n",
       "      <th>10</th>\n",
       "      <td>2017-01-02 09:06:15.871</td>\n",
       "      <td>84.29</td>\n",
       "      <td>32</td>\n",
       "      <td>299.978</td>\n",
       "      <td>0 days 00:04:59.978000</td>\n",
       "    </tr>\n",
       "    <tr>\n",
       "      <th>11</th>\n",
       "      <td>2017-01-02 09:06:15.871</td>\n",
       "      <td>84.29</td>\n",
       "      <td>12</td>\n",
       "      <td>299.978</td>\n",
       "      <td>0 days 00:04:59.978000</td>\n",
       "    </tr>\n",
       "    <tr>\n",
       "      <th>12</th>\n",
       "      <td>2017-01-02 09:06:15.871</td>\n",
       "      <td>84.30</td>\n",
       "      <td>66</td>\n",
       "      <td>299.978</td>\n",
       "      <td>0 days 00:04:59.978000</td>\n",
       "    </tr>\n",
       "    <tr>\n",
       "      <th>13</th>\n",
       "      <td>2017-01-02 09:06:22.521</td>\n",
       "      <td>84.29</td>\n",
       "      <td>23</td>\n",
       "      <td>306.628</td>\n",
       "      <td>0 days 00:05:06.628000</td>\n",
       "    </tr>\n",
       "    <tr>\n",
       "      <th>14</th>\n",
       "      <td>2017-01-02 09:06:47.949</td>\n",
       "      <td>84.34</td>\n",
       "      <td>20</td>\n",
       "      <td>332.056</td>\n",
       "      <td>0 days 00:05:32.056000</td>\n",
       "    </tr>\n",
       "    <tr>\n",
       "      <th>15</th>\n",
       "      <td>2017-01-02 09:08:02.296</td>\n",
       "      <td>84.26</td>\n",
       "      <td>18</td>\n",
       "      <td>406.403</td>\n",
       "      <td>0 days 00:06:46.403000</td>\n",
       "    </tr>\n",
       "    <tr>\n",
       "      <th>16</th>\n",
       "      <td>2017-01-02 09:08:02.296</td>\n",
       "      <td>84.26</td>\n",
       "      <td>15</td>\n",
       "      <td>406.403</td>\n",
       "      <td>0 days 00:06:46.403000</td>\n",
       "    </tr>\n",
       "    <tr>\n",
       "      <th>17</th>\n",
       "      <td>2017-01-02 09:08:47.114</td>\n",
       "      <td>84.23</td>\n",
       "      <td>77</td>\n",
       "      <td>451.221</td>\n",
       "      <td>0 days 00:07:31.221000</td>\n",
       "    </tr>\n",
       "    <tr>\n",
       "      <th>18</th>\n",
       "      <td>2017-01-02 09:08:47.124</td>\n",
       "      <td>84.23</td>\n",
       "      <td>73</td>\n",
       "      <td>451.231</td>\n",
       "      <td>0 days 00:07:31.231000</td>\n",
       "    </tr>\n",
       "    <tr>\n",
       "      <th>19</th>\n",
       "      <td>2017-01-02 09:08:47.124</td>\n",
       "      <td>84.23</td>\n",
       "      <td>64</td>\n",
       "      <td>451.231</td>\n",
       "      <td>0 days 00:07:31.231000</td>\n",
       "    </tr>\n",
       "  </tbody>\n",
       "</table>\n",
       "</div>"
      ],
      "text/plain": [
       "                        ts  price  volume   events                   diff\n",
       "0  2017-01-02 09:01:15.893  84.31      90    0.000        0 days 00:00:00\n",
       "1  2017-01-02 09:01:15.893  84.31      10    0.000        0 days 00:00:00\n",
       "2  2017-01-02 09:01:18.813  84.31      12    2.920 0 days 00:00:02.920000\n",
       "3  2017-01-02 09:01:52.432  84.31      38   36.539 0 days 00:00:36.539000\n",
       "4  2017-01-02 09:01:52.452  84.31      62   36.559 0 days 00:00:36.559000\n",
       "5  2017-01-02 09:02:59.009  84.29      60  103.116 0 days 00:01:43.116000\n",
       "6  2017-01-02 09:02:59.009  84.29      64  103.116 0 days 00:01:43.116000\n",
       "7  2017-01-02 09:03:49.157  84.29      11  153.264 0 days 00:02:33.264000\n",
       "8  2017-01-02 09:05:11.114  84.23       1  235.221 0 days 00:03:55.221000\n",
       "9  2017-01-02 09:06:15.871  84.29      25  299.978 0 days 00:04:59.978000\n",
       "10 2017-01-02 09:06:15.871  84.29      32  299.978 0 days 00:04:59.978000\n",
       "11 2017-01-02 09:06:15.871  84.29      12  299.978 0 days 00:04:59.978000\n",
       "12 2017-01-02 09:06:15.871  84.30      66  299.978 0 days 00:04:59.978000\n",
       "13 2017-01-02 09:06:22.521  84.29      23  306.628 0 days 00:05:06.628000\n",
       "14 2017-01-02 09:06:47.949  84.34      20  332.056 0 days 00:05:32.056000\n",
       "15 2017-01-02 09:08:02.296  84.26      18  406.403 0 days 00:06:46.403000\n",
       "16 2017-01-02 09:08:02.296  84.26      15  406.403 0 days 00:06:46.403000\n",
       "17 2017-01-02 09:08:47.114  84.23      77  451.221 0 days 00:07:31.221000\n",
       "18 2017-01-02 09:08:47.124  84.23      73  451.231 0 days 00:07:31.231000\n",
       "19 2017-01-02 09:08:47.124  84.23      64  451.231 0 days 00:07:31.231000"
      ]
     },
     "execution_count": 88,
     "metadata": {},
     "output_type": "execute_result"
    }
   ],
   "source": [
    "df_t.head(20)"
   ]
  },
  {
   "cell_type": "code",
   "execution_count": 89,
   "metadata": {},
   "outputs": [
    {
     "data": {
      "text/plain": [
       "array([0.0000000e+00, 0.0000000e+00, 2.9200000e+00, ..., 3.0523078e+04,\n",
       "       3.0523078e+04, 3.0523146e+04])"
      ]
     },
     "execution_count": 89,
     "metadata": {},
     "output_type": "execute_result"
    }
   ],
   "source": [
    "T_i = df_t['events'].values\n",
    "T_i"
   ]
  },
  {
   "cell_type": "code",
   "execution_count": 98,
   "metadata": {},
   "outputs": [
    {
     "data": {
      "text/plain": [
       "array([0.0000000e+00, 0.0000000e+00, 2.9200001e+00, ..., 3.0523078e+04,\n",
       "       3.0523078e+04, 3.0523146e+04], dtype=float32)"
      ]
     },
     "execution_count": 98,
     "metadata": {},
     "output_type": "execute_result"
    }
   ],
   "source": [
    "T_i.astype(np.float32)"
   ]
  },
  {
   "cell_type": "code",
   "execution_count": null,
   "metadata": {},
   "outputs": [],
   "source": []
  },
  {
   "cell_type": "code",
   "execution_count": null,
   "metadata": {},
   "outputs": [],
   "source": []
  },
  {
   "attachments": {},
   "cell_type": "markdown",
   "metadata": {},
   "source": [
    "## Fit"
   ]
  },
  {
   "cell_type": "code",
   "execution_count": 99,
   "metadata": {},
   "outputs": [],
   "source": [
    "model = hk.estimator()"
   ]
  },
  {
   "cell_type": "code",
   "execution_count": 100,
   "metadata": {},
   "outputs": [
    {
     "data": {
      "text/plain": [
       "<Hawkes.model.estimator at 0x7f63eb1d1430>"
      ]
     },
     "execution_count": 100,
     "metadata": {},
     "output_type": "execute_result"
    }
   ],
   "source": [
    "model.set_kernel('exp', num_exp = 1)"
   ]
  },
  {
   "cell_type": "code",
   "execution_count": 101,
   "metadata": {},
   "outputs": [
    {
     "data": {
      "text/plain": [
       "<Hawkes.model.estimator at 0x7f63eb1d1430>"
      ]
     },
     "execution_count": 101,
     "metadata": {},
     "output_type": "execute_result"
    }
   ],
   "source": [
    "model.set_baseline('const')"
   ]
  },
  {
   "cell_type": "code",
   "execution_count": 102,
   "metadata": {},
   "outputs": [
    {
     "data": {
      "text/plain": [
       "2380"
      ]
     },
     "execution_count": 102,
     "metadata": {},
     "output_type": "execute_result"
    }
   ],
   "source": [
    "len(T_i)"
   ]
  },
  {
   "cell_type": "code",
   "execution_count": 104,
   "metadata": {},
   "outputs": [
    {
     "data": {
      "text/plain": [
       "<Hawkes.model.estimator at 0x7f63eb1d1430>"
      ]
     },
     "execution_count": 104,
     "metadata": {},
     "output_type": "execute_result"
    }
   ],
   "source": [
    "itv = [T_i[0], T_i[20]] # the observation interval\n",
    "model.fit(T_i[:20],itv) # T is the event times (numpy.ndarray)"
   ]
  },
  {
   "cell_type": "code",
   "execution_count": 105,
   "metadata": {},
   "outputs": [
    {
     "name": "stdout",
     "output_type": "stream",
     "text": [
      "parameter: {'mu': 0.022442608635094338, 'alpha': 0.36789360528918047, 'beta': 333.53422990893665}\n",
      "branching ratio: 0.36789360528918047\n",
      "log-likelihood: -29.852671166759126\n",
      "AIC: 65.70534233351825\n"
     ]
    }
   ],
   "source": [
    "print(\"parameter:\",model.parameter) # the estimated parameter values\n",
    "print(\"branching ratio:\",model.br) # the branching ratio\n",
    "print(\"log-likelihood:\",model.L) # the log-likelihood of the estimated parameter values\n",
    "print(\"AIC:\",model.AIC) # the AIC of the estimated parameter values"
   ]
  },
  {
   "cell_type": "code",
   "execution_count": 106,
   "metadata": {},
   "outputs": [
    {
     "name": "stderr",
     "output_type": "stream",
     "text": [
      "findfont: Font family 'Arial' not found.\n",
      "findfont: Font family 'Arial' not found.\n",
      "findfont: Font family 'Arial' not found.\n",
      "findfont: Font family 'Arial' not found.\n",
      "findfont: Font family 'Arial' not found.\n",
      "findfont: Font family 'Arial' not found.\n",
      "findfont: Font family 'Arial' not found.\n",
      "findfont: Font family 'Arial' not found.\n",
      "findfont: Font family 'Arial' not found.\n",
      "findfont: Font family 'Arial' not found.\n",
      "findfont: Font family 'Arial' not found.\n",
      "findfont: Font family 'Arial' not found.\n",
      "findfont: Font family 'Arial' not found.\n",
      "findfont: Font family 'Arial' not found.\n",
      "findfont: Font family 'Arial' not found.\n",
      "findfont: Font family 'Arial' not found.\n",
      "findfont: Font family 'Arial' not found.\n",
      "findfont: Font family 'Arial' not found.\n",
      "findfont: Font family 'Arial' not found.\n",
      "findfont: Font family 'Arial' not found.\n",
      "findfont: Font family 'Arial' not found.\n",
      "findfont: Font family 'Arial' not found.\n",
      "findfont: Font family 'Arial' not found.\n",
      "findfont: Font family 'Arial' not found.\n",
      "findfont: Font family 'Arial' not found.\n",
      "findfont: Font family 'Arial' not found.\n",
      "findfont: Font family 'Arial' not found.\n",
      "findfont: Font family 'Arial' not found.\n",
      "findfont: Font family 'Arial' not found.\n",
      "findfont: Font family 'Arial' not found.\n",
      "findfont: Font family 'Arial' not found.\n",
      "findfont: Font family 'Arial' not found.\n",
      "findfont: Font family 'Arial' not found.\n",
      "findfont: Font family 'Arial' not found.\n",
      "findfont: Font family 'Arial' not found.\n",
      "findfont: Font family 'Arial' not found.\n",
      "findfont: Font family 'Arial' not found.\n",
      "findfont: Font family 'Arial' not found.\n",
      "findfont: Font family 'Arial' not found.\n",
      "findfont: Font family 'Arial' not found.\n",
      "findfont: Font family 'Arial' not found.\n",
      "findfont: Font family 'Arial' not found.\n",
      "findfont: Font family 'Arial' not found.\n",
      "findfont: Font family 'Arial' not found.\n",
      "findfont: Font family 'Arial' not found.\n",
      "findfont: Font family 'Arial' not found.\n",
      "findfont: Font family 'Arial' not found.\n",
      "findfont: Font family 'Arial' not found.\n",
      "findfont: Font family 'Arial' not found.\n",
      "findfont: Font family 'Arial' not found.\n",
      "findfont: Font family 'Arial' not found.\n",
      "findfont: Font family 'Arial' not found.\n",
      "findfont: Font family 'Arial' not found.\n",
      "findfont: Font family 'Arial' not found.\n",
      "findfont: Font family 'Arial' not found.\n",
      "findfont: Font family 'Arial' not found.\n",
      "findfont: Font family 'Arial' not found.\n",
      "findfont: Font family 'Arial' not found.\n",
      "findfont: Font family 'Arial' not found.\n",
      "findfont: Font family 'Arial' not found.\n",
      "findfont: Font family 'Arial' not found.\n",
      "findfont: Font family 'Arial' not found.\n",
      "findfont: Font family 'Arial' not found.\n",
      "findfont: Font family 'Arial' not found.\n",
      "findfont: Font family 'Arial' not found.\n",
      "findfont: Font family 'Arial' not found.\n",
      "findfont: Font family 'Arial' not found.\n",
      "findfont: Font family 'Arial' not found.\n",
      "findfont: Font family 'Arial' not found.\n",
      "findfont: Font family 'Arial' not found.\n",
      "findfont: Font family 'Arial' not found.\n",
      "findfont: Font family 'Arial' not found.\n",
      "findfont: Font family 'Arial' not found.\n",
      "findfont: Font family 'Arial' not found.\n",
      "findfont: Font family 'Arial' not found.\n",
      "findfont: Font family 'Arial' not found.\n",
      "findfont: Font family 'Arial' not found.\n",
      "findfont: Font family 'Arial' not found.\n",
      "findfont: Font family 'Arial' not found.\n",
      "findfont: Font family 'Arial' not found.\n",
      "findfont: Font family 'Arial' not found.\n",
      "findfont: Font family 'Arial' not found.\n",
      "findfont: Font family 'Arial' not found.\n",
      "findfont: Font family 'Arial' not found.\n",
      "findfont: Font family 'Arial' not found.\n",
      "findfont: Font family 'Arial' not found.\n",
      "findfont: Font family 'Arial' not found.\n",
      "findfont: Font family 'Arial' not found.\n",
      "findfont: Font family 'Arial' not found.\n",
      "findfont: Font family 'Arial' not found.\n",
      "findfont: Font family 'Arial' not found.\n",
      "findfont: Font family 'Arial' not found.\n",
      "findfont: Font family 'Arial' not found.\n",
      "findfont: Font family 'Arial' not found.\n",
      "findfont: Font family 'Arial' not found.\n",
      "findfont: Font family 'Arial' not found.\n",
      "findfont: Font family 'Arial' not found.\n",
      "findfont: Font family 'Arial' not found.\n",
      "findfont: Font family 'Arial' not found.\n",
      "findfont: Font family 'Arial' not found.\n"
     ]
    },
    {
     "data": {
      "image/png": "[encoded data removed]",
      "text/plain": [
       "<Figure size 400x400 with 1 Axes>"
      ]
     },
     "metadata": {},
     "output_type": "display_data"
    }
   ],
   "source": [
    "# T_trans: a list of transformed event occurrence times, itv_trans: the transformed observation interval\n",
    "[T_trans, itv_trans] = model.t_trans() \n",
    "# Kormogorov-Smirnov test under the null hypothesis that the transformed event occurrence times are uniformly distributed\n",
    "model.plot_KS() "
   ]
  },
  {
   "cell_type": "code",
   "execution_count": 107,
   "metadata": {},
   "outputs": [
    {
     "data": {
      "text/plain": [
       "[array([ 0.06553242,  1.18792408,  1.55580022,  3.41787285,  3.41787285,\n",
       "         5.279112  ,  7.48633448,  9.30754409,  9.30754409,  9.30754409,\n",
       "         9.30754409, 10.92836186, 11.86692612, 13.90336035, 13.90336035,\n",
       "        15.64498039]),\n",
       " [0, 16.000000527291647]]"
      ]
     },
     "execution_count": 107,
     "metadata": {},
     "output_type": "execute_result"
    }
   ],
   "source": [
    "[T_trans, itv_trans]"
   ]
  },
  {
   "attachments": {},
   "cell_type": "markdown",
   "metadata": {},
   "source": [
    "Faire tendre T vers l'infini et voir les estimateurs convergent bien sur les plusieurs jours etudiés"
   ]
  },
  {
   "attachments": {},
   "cell_type": "markdown",
   "metadata": {},
   "source": [
    "# 2\\ Systematic analysis"
   ]
  },
  {
   "attachments": {},
   "cell_type": "markdown",
   "metadata": {},
   "source": [
    "resortir un disctionnaire et sauvegarder le csv, ne pas refitter 50 fois c long"
   ]
  },
  {
   "cell_type": "code",
   "execution_count": null,
   "metadata": {},
   "outputs": [],
   "source": [
    "def estimate_parameters()"
   ]
  }
 ],
 "metadata": {
  "kernelspec": {
   "display_name": "Python 3",
   "language": "python",
   "name": "python3"
  },
  "language_info": {
   "codemirror_mode": {
    "name": "ipython",
    "version": 3
   },
   "file_extension": ".py",
   "mimetype": "text/x-python",
   "name": "python",
   "nbconvert_exporter": "python",
   "pygments_lexer": "ipython3",
   "version": "3.8.15"
  },
  "orig_nbformat": 4,
  "vscode": {
   "interpreter": {
    "hash": "949777d72b0d2535278d3dc13498b2535136f6dfe0678499012e853ee9abcab1"
   }
  }
 },
 "nbformat": 4,
 "nbformat_minor": 2
}
