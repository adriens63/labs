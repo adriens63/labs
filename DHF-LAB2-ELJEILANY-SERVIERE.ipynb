{
 "cells": [
  {
   "cell_type": "code",
   "execution_count": 1,
   "metadata": {},
   "outputs": [],
   "source": [
    "import pandas as pd\n",
    "import numpy as np\n",
    "import os.path as osp\n",
    "import matplotlib.pyplot as plt\n",
    "import seaborn as sns\n",
    "from pandas.plotting import register_matplotlib_converters\n"
   ]
  },
  {
   "cell_type": "code",
   "execution_count": 2,
   "metadata": {},
   "outputs": [],
   "source": [
    "register_matplotlib_converters()\n",
    "sns.set()"
   ]
  },
  {
   "attachments": {},
   "cell_type": "markdown",
   "metadata": {},
   "source": [
    "# Load data."
   ]
  },
  {
   "attachments": {},
   "cell_type": "markdown",
   "metadata": {},
   "source": [
    "## Load a sub-sample of the data."
   ]
  },
  {
   "cell_type": "code",
   "execution_count": 3,
   "metadata": {},
   "outputs": [],
   "source": [
    "df_q = pd.read_csv('./Data/RENA.PA/2017-01-02-RENA.PA-quotes.csv.gz', index_col = 0)"
   ]
  },
  {
   "cell_type": "code",
   "execution_count": 4,
   "metadata": {},
   "outputs": [],
   "source": [
    "df_t = pd.read_csv('./Data/RENA.PA/2017-01-02-RENA.PA-trades.csv.gz', index_col = 0)"
   ]
  },
  {
   "cell_type": "code",
   "execution_count": 5,
   "metadata": {},
   "outputs": [
    {
     "data": {
      "text/html": [
       "<div>\n",
       "<style scoped>\n",
       "    .dataframe tbody tr th:only-of-type {\n",
       "        vertical-align: middle;\n",
       "    }\n",
       "\n",
       "    .dataframe tbody tr th {\n",
       "        vertical-align: top;\n",
       "    }\n",
       "\n",
       "    .dataframe thead th {\n",
       "        text-align: right;\n",
       "    }\n",
       "</style>\n",
       "<table border=\"1\" class=\"dataframe\">\n",
       "  <thead>\n",
       "    <tr style=\"text-align: right;\">\n",
       "      <th></th>\n",
       "      <th>ts</th>\n",
       "      <th>bp1</th>\n",
       "      <th>bq1</th>\n",
       "      <th>ap1</th>\n",
       "      <th>aq1</th>\n",
       "      <th>bp2</th>\n",
       "      <th>bq2</th>\n",
       "      <th>ap2</th>\n",
       "      <th>aq2</th>\n",
       "      <th>bp3</th>\n",
       "      <th>...</th>\n",
       "      <th>ap8</th>\n",
       "      <th>aq8</th>\n",
       "      <th>bp9</th>\n",
       "      <th>bq9</th>\n",
       "      <th>ap9</th>\n",
       "      <th>aq9</th>\n",
       "      <th>bp10</th>\n",
       "      <th>bq10</th>\n",
       "      <th>ap10</th>\n",
       "      <th>aq10</th>\n",
       "    </tr>\n",
       "  </thead>\n",
       "  <tbody>\n",
       "    <tr>\n",
       "      <th>0</th>\n",
       "      <td>2017-01-02 09:01:18.813</td>\n",
       "      <td>84.19</td>\n",
       "      <td>35</td>\n",
       "      <td>84.31</td>\n",
       "      <td>38</td>\n",
       "      <td>84.18</td>\n",
       "      <td>35</td>\n",
       "      <td>84.34</td>\n",
       "      <td>50</td>\n",
       "      <td>84.16</td>\n",
       "      <td>...</td>\n",
       "      <td>84.41</td>\n",
       "      <td>700</td>\n",
       "      <td>84.1</td>\n",
       "      <td>700</td>\n",
       "      <td>84.42</td>\n",
       "      <td>75</td>\n",
       "      <td>84.09</td>\n",
       "      <td>55</td>\n",
       "      <td>84.44</td>\n",
       "      <td>55</td>\n",
       "    </tr>\n",
       "    <tr>\n",
       "      <th>1</th>\n",
       "      <td>2017-01-02 09:01:18.813</td>\n",
       "      <td>84.19</td>\n",
       "      <td>35</td>\n",
       "      <td>84.31</td>\n",
       "      <td>128</td>\n",
       "      <td>84.18</td>\n",
       "      <td>35</td>\n",
       "      <td>84.34</td>\n",
       "      <td>50</td>\n",
       "      <td>84.16</td>\n",
       "      <td>...</td>\n",
       "      <td>84.41</td>\n",
       "      <td>700</td>\n",
       "      <td>84.1</td>\n",
       "      <td>700</td>\n",
       "      <td>84.42</td>\n",
       "      <td>75</td>\n",
       "      <td>84.09</td>\n",
       "      <td>55</td>\n",
       "      <td>84.44</td>\n",
       "      <td>55</td>\n",
       "    </tr>\n",
       "    <tr>\n",
       "      <th>2</th>\n",
       "      <td>2017-01-02 09:01:19.893</td>\n",
       "      <td>84.19</td>\n",
       "      <td>35</td>\n",
       "      <td>84.31</td>\n",
       "      <td>193</td>\n",
       "      <td>84.18</td>\n",
       "      <td>35</td>\n",
       "      <td>84.34</td>\n",
       "      <td>50</td>\n",
       "      <td>84.16</td>\n",
       "      <td>...</td>\n",
       "      <td>84.41</td>\n",
       "      <td>700</td>\n",
       "      <td>84.1</td>\n",
       "      <td>700</td>\n",
       "      <td>84.42</td>\n",
       "      <td>75</td>\n",
       "      <td>84.09</td>\n",
       "      <td>55</td>\n",
       "      <td>84.44</td>\n",
       "      <td>55</td>\n",
       "    </tr>\n",
       "    <tr>\n",
       "      <th>3</th>\n",
       "      <td>2017-01-02 09:01:20.553</td>\n",
       "      <td>84.19</td>\n",
       "      <td>35</td>\n",
       "      <td>84.31</td>\n",
       "      <td>193</td>\n",
       "      <td>84.18</td>\n",
       "      <td>35</td>\n",
       "      <td>84.34</td>\n",
       "      <td>50</td>\n",
       "      <td>84.16</td>\n",
       "      <td>...</td>\n",
       "      <td>84.41</td>\n",
       "      <td>700</td>\n",
       "      <td>84.1</td>\n",
       "      <td>700</td>\n",
       "      <td>84.42</td>\n",
       "      <td>75</td>\n",
       "      <td>84.09</td>\n",
       "      <td>55</td>\n",
       "      <td>84.44</td>\n",
       "      <td>55</td>\n",
       "    </tr>\n",
       "    <tr>\n",
       "      <th>4</th>\n",
       "      <td>2017-01-02 09:01:20.553</td>\n",
       "      <td>84.19</td>\n",
       "      <td>35</td>\n",
       "      <td>84.31</td>\n",
       "      <td>193</td>\n",
       "      <td>84.18</td>\n",
       "      <td>35</td>\n",
       "      <td>84.33</td>\n",
       "      <td>53</td>\n",
       "      <td>84.16</td>\n",
       "      <td>...</td>\n",
       "      <td>84.40</td>\n",
       "      <td>200</td>\n",
       "      <td>84.1</td>\n",
       "      <td>700</td>\n",
       "      <td>84.41</td>\n",
       "      <td>700</td>\n",
       "      <td>84.09</td>\n",
       "      <td>55</td>\n",
       "      <td>84.42</td>\n",
       "      <td>75</td>\n",
       "    </tr>\n",
       "  </tbody>\n",
       "</table>\n",
       "<p>5 rows × 41 columns</p>\n",
       "</div>"
      ],
      "text/plain": [
       "                        ts    bp1  bq1    ap1  aq1    bp2  bq2    ap2  aq2  \\\n",
       "0  2017-01-02 09:01:18.813  84.19   35  84.31   38  84.18   35  84.34   50   \n",
       "1  2017-01-02 09:01:18.813  84.19   35  84.31  128  84.18   35  84.34   50   \n",
       "2  2017-01-02 09:01:19.893  84.19   35  84.31  193  84.18   35  84.34   50   \n",
       "3  2017-01-02 09:01:20.553  84.19   35  84.31  193  84.18   35  84.34   50   \n",
       "4  2017-01-02 09:01:20.553  84.19   35  84.31  193  84.18   35  84.33   53   \n",
       "\n",
       "     bp3  ...    ap8  aq8   bp9  bq9    ap9  aq9   bp10  bq10   ap10  aq10  \n",
       "0  84.16  ...  84.41  700  84.1  700  84.42   75  84.09    55  84.44    55  \n",
       "1  84.16  ...  84.41  700  84.1  700  84.42   75  84.09    55  84.44    55  \n",
       "2  84.16  ...  84.41  700  84.1  700  84.42   75  84.09    55  84.44    55  \n",
       "3  84.16  ...  84.41  700  84.1  700  84.42   75  84.09    55  84.44    55  \n",
       "4  84.16  ...  84.40  200  84.1  700  84.41  700  84.09    55  84.42    75  \n",
       "\n",
       "[5 rows x 41 columns]"
      ]
     },
     "execution_count": 5,
     "metadata": {},
     "output_type": "execute_result"
    }
   ],
   "source": [
    "df_q.head()"
   ]
  },
  {
   "cell_type": "code",
   "execution_count": 6,
   "metadata": {},
   "outputs": [
    {
     "data": {
      "text/html": [
       "<div>\n",
       "<style scoped>\n",
       "    .dataframe tbody tr th:only-of-type {\n",
       "        vertical-align: middle;\n",
       "    }\n",
       "\n",
       "    .dataframe tbody tr th {\n",
       "        vertical-align: top;\n",
       "    }\n",
       "\n",
       "    .dataframe thead th {\n",
       "        text-align: right;\n",
       "    }\n",
       "</style>\n",
       "<table border=\"1\" class=\"dataframe\">\n",
       "  <thead>\n",
       "    <tr style=\"text-align: right;\">\n",
       "      <th></th>\n",
       "      <th>ts</th>\n",
       "      <th>price</th>\n",
       "      <th>volume</th>\n",
       "    </tr>\n",
       "  </thead>\n",
       "  <tbody>\n",
       "    <tr>\n",
       "      <th>0</th>\n",
       "      <td>2017-01-02 09:01:15.893</td>\n",
       "      <td>84.31</td>\n",
       "      <td>90</td>\n",
       "    </tr>\n",
       "    <tr>\n",
       "      <th>1</th>\n",
       "      <td>2017-01-02 09:01:15.893</td>\n",
       "      <td>84.31</td>\n",
       "      <td>10</td>\n",
       "    </tr>\n",
       "    <tr>\n",
       "      <th>2</th>\n",
       "      <td>2017-01-02 09:01:18.813</td>\n",
       "      <td>84.31</td>\n",
       "      <td>12</td>\n",
       "    </tr>\n",
       "    <tr>\n",
       "      <th>3</th>\n",
       "      <td>2017-01-02 09:01:52.432</td>\n",
       "      <td>84.31</td>\n",
       "      <td>38</td>\n",
       "    </tr>\n",
       "    <tr>\n",
       "      <th>4</th>\n",
       "      <td>2017-01-02 09:01:52.452</td>\n",
       "      <td>84.31</td>\n",
       "      <td>62</td>\n",
       "    </tr>\n",
       "  </tbody>\n",
       "</table>\n",
       "</div>"
      ],
      "text/plain": [
       "                        ts  price  volume\n",
       "0  2017-01-02 09:01:15.893  84.31      90\n",
       "1  2017-01-02 09:01:15.893  84.31      10\n",
       "2  2017-01-02 09:01:18.813  84.31      12\n",
       "3  2017-01-02 09:01:52.432  84.31      38\n",
       "4  2017-01-02 09:01:52.452  84.31      62"
      ]
     },
     "execution_count": 6,
     "metadata": {},
     "output_type": "execute_result"
    }
   ],
   "source": [
    "df_t.head()"
   ]
  },
  {
   "attachments": {},
   "cell_type": "markdown",
   "metadata": {},
   "source": [
    "# 1\\  Multiple prices.   \n",
    "\n",
    "Plot the bid price, ask price, mid price and weighted mid-price on a few\n",
    "minutes of the sample."
   ]
  },
  {
   "attachments": {},
   "cell_type": "markdown",
   "metadata": {},
   "source": [
    "## Compute the mid-price."
   ]
  },
  {
   "cell_type": "code",
   "execution_count": 7,
   "metadata": {},
   "outputs": [],
   "source": [
    "df_q['mid price'] = (df_q['bp1'] + df_q['ap1']) * .5"
   ]
  },
  {
   "attachments": {},
   "cell_type": "markdown",
   "metadata": {},
   "source": [
    "## Compute the weighted mid-price."
   ]
  },
  {
   "cell_type": "code",
   "execution_count": 8,
   "metadata": {},
   "outputs": [],
   "source": [
    "df_q['weighted mid price'] = (df_q['bp1'] * df_q['aq1'] + df_q['ap1'] * df_q['bq1']) / (df_q['bq1'] + df_q['aq1'])"
   ]
  },
  {
   "cell_type": "code",
   "execution_count": 9,
   "metadata": {},
   "outputs": [],
   "source": [
    "df_q['ask price'] = df_q['ap1']\n",
    "df_q['bid price'] = df_q['bp1']\n",
    "#df_q = df_q.rename(columns = {'ap1': 'ask price', 'bp1': 'bid price'})"
   ]
  },
  {
   "attachments": {},
   "cell_type": "markdown",
   "metadata": {},
   "source": [
    "## Final plot."
   ]
  },
  {
   "cell_type": "code",
   "execution_count": 10,
   "metadata": {},
   "outputs": [
    {
     "data": {
      "text/plain": [
       "<AxesSubplot: title={'center': 'Bid price and Ask price for each available observations.'}, xlabel='Available observations', ylabel='Price in Euros'>"
      ]
     },
     "execution_count": 10,
     "metadata": {},
     "output_type": "execute_result"
    },
    {
     "data": {
      "image/png": "[encoded data removed]",
      "text/plain": [
       "<Figure size 640x480 with 1 Axes>"
      ]
     },
     "metadata": {},
     "output_type": "display_data"
    }
   ],
   "source": [
    "df_q[:500].plot(x = 'ts', \n",
    "             y = ['bid price', 'ask price', 'mid price', 'weighted mid price'], \n",
    "             kind = 'line',\n",
    "             title = 'Bid price and Ask price for each available observations.',\n",
    "             grid = True,\n",
    "             legend = True,\n",
    "             xlabel = 'Available observations',\n",
    "             ylabel = 'Price in Euros',\n",
    "             rot = 90,\n",
    "             )"
   ]
  },
  {
   "attachments": {},
   "cell_type": "markdown",
   "metadata": {},
   "source": [
    "One can clearly see the jumps that correspond to some integer times the tick size. The weighted mid-price, however, does not move by a integer number of tick size since it is a convex combination of the bid and ask prices. It can change without the ask and bid prices when some ask or bid volume is added or removed."
   ]
  },
  {
   "attachments": {},
   "cell_type": "markdown",
   "metadata": {},
   "source": [
    "# 2\\ Spread distribution."
   ]
  },
  {
   "cell_type": "code",
   "execution_count": 11,
   "metadata": {},
   "outputs": [],
   "source": [
    "df_q['spread'] = df_q['ask price'] - df_q['bid price'] "
   ]
  },
  {
   "attachments": {},
   "cell_type": "markdown",
   "metadata": {},
   "source": [
    "## Plot in event time."
   ]
  },
  {
   "cell_type": "code",
   "execution_count": 12,
   "metadata": {},
   "outputs": [
    {
     "data": {
      "text/plain": [
       "<AxesSubplot: title={'center': 'Empirical distribution of the spread in event time.'}, ylabel='Frequency'>"
      ]
     },
     "execution_count": 12,
     "metadata": {},
     "output_type": "execute_result"
    },
    {
     "data": {
      "image/png": "[encoded data removed]",
      "text/plain": [
       "<Figure size 640x480 with 1 Axes>"
      ]
     },
     "metadata": {},
     "output_type": "display_data"
    }
   ],
   "source": [
    "df_q.plot(y = ['spread'], \n",
    "             kind = 'hist',\n",
    "             title = 'Empirical distribution of the spread in event time.',\n",
    "             grid = True,\n",
    "             legend = True,\n",
    "             xlabel = 'Available observations',\n",
    "             ylabel = 'Price in Euros',\n",
    "             rot = 90,\n",
    "             bins = 20 #TODO change the bins.\n",
    "             )"
   ]
  },
  {
   "attachments": {},
   "cell_type": "markdown",
   "metadata": {},
   "source": [
    "This empirical distribution is consistent with that presented in the course, the shape is roughly the same. One can infer that the tick size is close to 0.01 ."
   ]
  },
  {
   "attachments": {},
   "cell_type": "markdown",
   "metadata": {},
   "source": [
    "## Plot in calendar time."
   ]
  },
  {
   "cell_type": "code",
   "execution_count": 13,
   "metadata": {},
   "outputs": [
    {
     "data": {
      "text/plain": [
       "False"
      ]
     },
     "execution_count": 13,
     "metadata": {},
     "output_type": "execute_result"
    }
   ],
   "source": [
    "df_q.isna().any().any()"
   ]
  },
  {
   "cell_type": "code",
   "execution_count": 14,
   "metadata": {},
   "outputs": [
    {
     "data": {
      "text/html": [
       "<div>\n",
       "<style scoped>\n",
       "    .dataframe tbody tr th:only-of-type {\n",
       "        vertical-align: middle;\n",
       "    }\n",
       "\n",
       "    .dataframe tbody tr th {\n",
       "        vertical-align: top;\n",
       "    }\n",
       "\n",
       "    .dataframe thead th {\n",
       "        text-align: right;\n",
       "    }\n",
       "</style>\n",
       "<table border=\"1\" class=\"dataframe\">\n",
       "  <thead>\n",
       "    <tr style=\"text-align: right;\">\n",
       "      <th></th>\n",
       "      <th>ts</th>\n",
       "      <th>bp1</th>\n",
       "      <th>bq1</th>\n",
       "      <th>ap1</th>\n",
       "      <th>aq1</th>\n",
       "      <th>bp2</th>\n",
       "      <th>bq2</th>\n",
       "      <th>ap2</th>\n",
       "      <th>aq2</th>\n",
       "      <th>bp3</th>\n",
       "      <th>...</th>\n",
       "      <th>aq9</th>\n",
       "      <th>bp10</th>\n",
       "      <th>bq10</th>\n",
       "      <th>ap10</th>\n",
       "      <th>aq10</th>\n",
       "      <th>mid price</th>\n",
       "      <th>weighted mid price</th>\n",
       "      <th>ask price</th>\n",
       "      <th>bid price</th>\n",
       "      <th>spread</th>\n",
       "    </tr>\n",
       "  </thead>\n",
       "  <tbody>\n",
       "    <tr>\n",
       "      <th>0</th>\n",
       "      <td>2017-01-02 09:01:18.813</td>\n",
       "      <td>84.19</td>\n",
       "      <td>35</td>\n",
       "      <td>84.31</td>\n",
       "      <td>38</td>\n",
       "      <td>84.18</td>\n",
       "      <td>35</td>\n",
       "      <td>84.34</td>\n",
       "      <td>50</td>\n",
       "      <td>84.16</td>\n",
       "      <td>...</td>\n",
       "      <td>75</td>\n",
       "      <td>84.09</td>\n",
       "      <td>55</td>\n",
       "      <td>84.44</td>\n",
       "      <td>55</td>\n",
       "      <td>84.25</td>\n",
       "      <td>84.247534</td>\n",
       "      <td>84.31</td>\n",
       "      <td>84.19</td>\n",
       "      <td>0.12</td>\n",
       "    </tr>\n",
       "    <tr>\n",
       "      <th>1</th>\n",
       "      <td>2017-01-02 09:01:18.813</td>\n",
       "      <td>84.19</td>\n",
       "      <td>35</td>\n",
       "      <td>84.31</td>\n",
       "      <td>128</td>\n",
       "      <td>84.18</td>\n",
       "      <td>35</td>\n",
       "      <td>84.34</td>\n",
       "      <td>50</td>\n",
       "      <td>84.16</td>\n",
       "      <td>...</td>\n",
       "      <td>75</td>\n",
       "      <td>84.09</td>\n",
       "      <td>55</td>\n",
       "      <td>84.44</td>\n",
       "      <td>55</td>\n",
       "      <td>84.25</td>\n",
       "      <td>84.215767</td>\n",
       "      <td>84.31</td>\n",
       "      <td>84.19</td>\n",
       "      <td>0.12</td>\n",
       "    </tr>\n",
       "    <tr>\n",
       "      <th>2</th>\n",
       "      <td>2017-01-02 09:01:19.893</td>\n",
       "      <td>84.19</td>\n",
       "      <td>35</td>\n",
       "      <td>84.31</td>\n",
       "      <td>193</td>\n",
       "      <td>84.18</td>\n",
       "      <td>35</td>\n",
       "      <td>84.34</td>\n",
       "      <td>50</td>\n",
       "      <td>84.16</td>\n",
       "      <td>...</td>\n",
       "      <td>75</td>\n",
       "      <td>84.09</td>\n",
       "      <td>55</td>\n",
       "      <td>84.44</td>\n",
       "      <td>55</td>\n",
       "      <td>84.25</td>\n",
       "      <td>84.208421</td>\n",
       "      <td>84.31</td>\n",
       "      <td>84.19</td>\n",
       "      <td>0.12</td>\n",
       "    </tr>\n",
       "    <tr>\n",
       "      <th>3</th>\n",
       "      <td>2017-01-02 09:01:20.553</td>\n",
       "      <td>84.19</td>\n",
       "      <td>35</td>\n",
       "      <td>84.31</td>\n",
       "      <td>193</td>\n",
       "      <td>84.18</td>\n",
       "      <td>35</td>\n",
       "      <td>84.34</td>\n",
       "      <td>50</td>\n",
       "      <td>84.16</td>\n",
       "      <td>...</td>\n",
       "      <td>75</td>\n",
       "      <td>84.09</td>\n",
       "      <td>55</td>\n",
       "      <td>84.44</td>\n",
       "      <td>55</td>\n",
       "      <td>84.25</td>\n",
       "      <td>84.208421</td>\n",
       "      <td>84.31</td>\n",
       "      <td>84.19</td>\n",
       "      <td>0.12</td>\n",
       "    </tr>\n",
       "    <tr>\n",
       "      <th>4</th>\n",
       "      <td>2017-01-02 09:01:20.553</td>\n",
       "      <td>84.19</td>\n",
       "      <td>35</td>\n",
       "      <td>84.31</td>\n",
       "      <td>193</td>\n",
       "      <td>84.18</td>\n",
       "      <td>35</td>\n",
       "      <td>84.33</td>\n",
       "      <td>53</td>\n",
       "      <td>84.16</td>\n",
       "      <td>...</td>\n",
       "      <td>700</td>\n",
       "      <td>84.09</td>\n",
       "      <td>55</td>\n",
       "      <td>84.42</td>\n",
       "      <td>75</td>\n",
       "      <td>84.25</td>\n",
       "      <td>84.208421</td>\n",
       "      <td>84.31</td>\n",
       "      <td>84.19</td>\n",
       "      <td>0.12</td>\n",
       "    </tr>\n",
       "  </tbody>\n",
       "</table>\n",
       "<p>5 rows × 46 columns</p>\n",
       "</div>"
      ],
      "text/plain": [
       "                        ts    bp1  bq1    ap1  aq1    bp2  bq2    ap2  aq2  \\\n",
       "0  2017-01-02 09:01:18.813  84.19   35  84.31   38  84.18   35  84.34   50   \n",
       "1  2017-01-02 09:01:18.813  84.19   35  84.31  128  84.18   35  84.34   50   \n",
       "2  2017-01-02 09:01:19.893  84.19   35  84.31  193  84.18   35  84.34   50   \n",
       "3  2017-01-02 09:01:20.553  84.19   35  84.31  193  84.18   35  84.34   50   \n",
       "4  2017-01-02 09:01:20.553  84.19   35  84.31  193  84.18   35  84.33   53   \n",
       "\n",
       "     bp3  ...  aq9   bp10  bq10   ap10  aq10  mid price  weighted mid price  \\\n",
       "0  84.16  ...   75  84.09    55  84.44    55      84.25           84.247534   \n",
       "1  84.16  ...   75  84.09    55  84.44    55      84.25           84.215767   \n",
       "2  84.16  ...   75  84.09    55  84.44    55      84.25           84.208421   \n",
       "3  84.16  ...   75  84.09    55  84.44    55      84.25           84.208421   \n",
       "4  84.16  ...  700  84.09    55  84.42    75      84.25           84.208421   \n",
       "\n",
       "   ask price  bid price  spread  \n",
       "0      84.31      84.19    0.12  \n",
       "1      84.31      84.19    0.12  \n",
       "2      84.31      84.19    0.12  \n",
       "3      84.31      84.19    0.12  \n",
       "4      84.31      84.19    0.12  \n",
       "\n",
       "[5 rows x 46 columns]"
      ]
     },
     "execution_count": 14,
     "metadata": {},
     "output_type": "execute_result"
    }
   ],
   "source": [
    "df_q.head()"
   ]
  },
  {
   "cell_type": "code",
   "execution_count": 15,
   "metadata": {},
   "outputs": [
    {
     "data": {
      "text/plain": [
       "ts                     object\n",
       "bp1                   float64\n",
       "bq1                     int64\n",
       "ap1                   float64\n",
       "aq1                     int64\n",
       "bp2                   float64\n",
       "bq2                     int64\n",
       "ap2                   float64\n",
       "aq2                     int64\n",
       "bp3                   float64\n",
       "bq3                     int64\n",
       "ap3                   float64\n",
       "aq3                     int64\n",
       "bp4                   float64\n",
       "bq4                     int64\n",
       "ap4                   float64\n",
       "aq4                     int64\n",
       "bp5                   float64\n",
       "bq5                     int64\n",
       "ap5                   float64\n",
       "aq5                     int64\n",
       "bp6                   float64\n",
       "bq6                     int64\n",
       "ap6                   float64\n",
       "aq6                     int64\n",
       "bp7                   float64\n",
       "bq7                     int64\n",
       "ap7                   float64\n",
       "aq7                     int64\n",
       "bp8                   float64\n",
       "bq8                     int64\n",
       "ap8                   float64\n",
       "aq8                     int64\n",
       "bp9                   float64\n",
       "bq9                     int64\n",
       "ap9                   float64\n",
       "aq9                     int64\n",
       "bp10                  float64\n",
       "bq10                    int64\n",
       "ap10                  float64\n",
       "aq10                    int64\n",
       "mid price             float64\n",
       "weighted mid price    float64\n",
       "ask price             float64\n",
       "bid price             float64\n",
       "spread                float64\n",
       "dtype: object"
      ]
     },
     "execution_count": 15,
     "metadata": {},
     "output_type": "execute_result"
    }
   ],
   "source": [
    "df_q.dtypes"
   ]
  },
  {
   "cell_type": "code",
   "execution_count": 16,
   "metadata": {},
   "outputs": [],
   "source": [
    "df_q['ts'] = pd.to_datetime(df_q['ts'])"
   ]
  },
  {
   "cell_type": "code",
   "execution_count": 17,
   "metadata": {},
   "outputs": [],
   "source": [
    "df_q['duration'] = (df_q['ts'] - df_q['ts'].shift()).dt.total_seconds()"
   ]
  },
  {
   "cell_type": "code",
   "execution_count": 18,
   "metadata": {},
   "outputs": [],
   "source": [
    "df_q['weighted spread'] = df_q['spread'] * df_q['duration'] "
   ]
  },
  {
   "cell_type": "code",
   "execution_count": 19,
   "metadata": {},
   "outputs": [
    {
     "data": {
      "text/plain": [
       "<AxesSubplot: title={'center': 'Empirical distribution of the spread in calendar time.'}, ylabel='Frequency'>"
      ]
     },
     "execution_count": 19,
     "metadata": {},
     "output_type": "execute_result"
    },
    {
     "data": {
      "image/png": "[encoded data removed]",
      "text/plain": [
       "<Figure size 640x480 with 1 Axes>"
      ]
     },
     "metadata": {},
     "output_type": "display_data"
    }
   ],
   "source": [
    "df_q.plot(y = ['weighted spread'], \n",
    "             kind = 'hist',\n",
    "             title = 'Empirical distribution of the spread in calendar time.',\n",
    "             grid = True,\n",
    "             legend = True,\n",
    "             xlabel = 'Available observations',\n",
    "             ylabel = 'Price in Euros',\n",
    "             rot = 90,\n",
    "             bins = 40 #TODO change the bins.\n",
    "             )"
   ]
  },
  {
   "attachments": {},
   "cell_type": "markdown",
   "metadata": {},
   "source": [
    "This time, by weighting by the duration of the event, one can see that almost all of the mass is on the first tick size. This mesure is more appropriate to see what really happens in practice; indeed even if sometimes the spread can be more than 5 times the tick size in event time, this does not last long at all, and these are due to transition. On average in time, it is almost all the time one tick size long. Therefore it is rather a 'large tick stock'.\n",
    "\n",
    "The shapes of the two graphs above are consistent with that of the course."
   ]
  },
  {
   "attachments": {},
   "cell_type": "markdown",
   "metadata": {},
   "source": [
    "# 3\\ Imbalance and trading activity."
   ]
  },
  {
   "attachments": {},
   "cell_type": "markdown",
   "metadata": {},
   "source": [
    "## Compute the imbalance."
   ]
  },
  {
   "cell_type": "code",
   "execution_count": 20,
   "metadata": {},
   "outputs": [],
   "source": [
    "df_q['imbalance'] = (df_q['bq1'] - df_q['aq1']) / (df_q['bq1'] + df_q['aq1'])"
   ]
  },
  {
   "attachments": {},
   "cell_type": "markdown",
   "metadata": {},
   "source": [
    "## Compute the mid-price move each times it moves in percentage."
   ]
  },
  {
   "cell_type": "code",
   "execution_count": 21,
   "metadata": {},
   "outputs": [],
   "source": [
    "df_q['mid price move'] = df_q['mid price'].pct_change()"
   ]
  },
  {
   "cell_type": "code",
   "execution_count": 22,
   "metadata": {},
   "outputs": [
    {
     "data": {
      "text/html": [
       "<div>\n",
       "<style scoped>\n",
       "    .dataframe tbody tr th:only-of-type {\n",
       "        vertical-align: middle;\n",
       "    }\n",
       "\n",
       "    .dataframe tbody tr th {\n",
       "        vertical-align: top;\n",
       "    }\n",
       "\n",
       "    .dataframe thead th {\n",
       "        text-align: right;\n",
       "    }\n",
       "</style>\n",
       "<table border=\"1\" class=\"dataframe\">\n",
       "  <thead>\n",
       "    <tr style=\"text-align: right;\">\n",
       "      <th></th>\n",
       "      <th>ts</th>\n",
       "      <th>bp1</th>\n",
       "      <th>bq1</th>\n",
       "      <th>ap1</th>\n",
       "      <th>aq1</th>\n",
       "      <th>bp2</th>\n",
       "      <th>bq2</th>\n",
       "      <th>ap2</th>\n",
       "      <th>aq2</th>\n",
       "      <th>bp3</th>\n",
       "      <th>...</th>\n",
       "      <th>aq10</th>\n",
       "      <th>mid price</th>\n",
       "      <th>weighted mid price</th>\n",
       "      <th>ask price</th>\n",
       "      <th>bid price</th>\n",
       "      <th>spread</th>\n",
       "      <th>duration</th>\n",
       "      <th>weighted spread</th>\n",
       "      <th>imbalance</th>\n",
       "      <th>mid price move</th>\n",
       "    </tr>\n",
       "  </thead>\n",
       "  <tbody>\n",
       "    <tr>\n",
       "      <th>0</th>\n",
       "      <td>2017-01-02 09:01:18.813</td>\n",
       "      <td>84.19</td>\n",
       "      <td>35</td>\n",
       "      <td>84.31</td>\n",
       "      <td>38</td>\n",
       "      <td>84.18</td>\n",
       "      <td>35</td>\n",
       "      <td>84.34</td>\n",
       "      <td>50</td>\n",
       "      <td>84.16</td>\n",
       "      <td>...</td>\n",
       "      <td>55</td>\n",
       "      <td>84.25</td>\n",
       "      <td>84.247534</td>\n",
       "      <td>84.31</td>\n",
       "      <td>84.19</td>\n",
       "      <td>0.12</td>\n",
       "      <td>NaN</td>\n",
       "      <td>NaN</td>\n",
       "      <td>-0.041096</td>\n",
       "      <td>NaN</td>\n",
       "    </tr>\n",
       "    <tr>\n",
       "      <th>1</th>\n",
       "      <td>2017-01-02 09:01:18.813</td>\n",
       "      <td>84.19</td>\n",
       "      <td>35</td>\n",
       "      <td>84.31</td>\n",
       "      <td>128</td>\n",
       "      <td>84.18</td>\n",
       "      <td>35</td>\n",
       "      <td>84.34</td>\n",
       "      <td>50</td>\n",
       "      <td>84.16</td>\n",
       "      <td>...</td>\n",
       "      <td>55</td>\n",
       "      <td>84.25</td>\n",
       "      <td>84.215767</td>\n",
       "      <td>84.31</td>\n",
       "      <td>84.19</td>\n",
       "      <td>0.12</td>\n",
       "      <td>0.00</td>\n",
       "      <td>0.0000</td>\n",
       "      <td>-0.570552</td>\n",
       "      <td>0.0</td>\n",
       "    </tr>\n",
       "    <tr>\n",
       "      <th>2</th>\n",
       "      <td>2017-01-02 09:01:19.893</td>\n",
       "      <td>84.19</td>\n",
       "      <td>35</td>\n",
       "      <td>84.31</td>\n",
       "      <td>193</td>\n",
       "      <td>84.18</td>\n",
       "      <td>35</td>\n",
       "      <td>84.34</td>\n",
       "      <td>50</td>\n",
       "      <td>84.16</td>\n",
       "      <td>...</td>\n",
       "      <td>55</td>\n",
       "      <td>84.25</td>\n",
       "      <td>84.208421</td>\n",
       "      <td>84.31</td>\n",
       "      <td>84.19</td>\n",
       "      <td>0.12</td>\n",
       "      <td>1.08</td>\n",
       "      <td>0.1296</td>\n",
       "      <td>-0.692982</td>\n",
       "      <td>0.0</td>\n",
       "    </tr>\n",
       "    <tr>\n",
       "      <th>3</th>\n",
       "      <td>2017-01-02 09:01:20.553</td>\n",
       "      <td>84.19</td>\n",
       "      <td>35</td>\n",
       "      <td>84.31</td>\n",
       "      <td>193</td>\n",
       "      <td>84.18</td>\n",
       "      <td>35</td>\n",
       "      <td>84.34</td>\n",
       "      <td>50</td>\n",
       "      <td>84.16</td>\n",
       "      <td>...</td>\n",
       "      <td>55</td>\n",
       "      <td>84.25</td>\n",
       "      <td>84.208421</td>\n",
       "      <td>84.31</td>\n",
       "      <td>84.19</td>\n",
       "      <td>0.12</td>\n",
       "      <td>0.66</td>\n",
       "      <td>0.0792</td>\n",
       "      <td>-0.692982</td>\n",
       "      <td>0.0</td>\n",
       "    </tr>\n",
       "    <tr>\n",
       "      <th>4</th>\n",
       "      <td>2017-01-02 09:01:20.553</td>\n",
       "      <td>84.19</td>\n",
       "      <td>35</td>\n",
       "      <td>84.31</td>\n",
       "      <td>193</td>\n",
       "      <td>84.18</td>\n",
       "      <td>35</td>\n",
       "      <td>84.33</td>\n",
       "      <td>53</td>\n",
       "      <td>84.16</td>\n",
       "      <td>...</td>\n",
       "      <td>75</td>\n",
       "      <td>84.25</td>\n",
       "      <td>84.208421</td>\n",
       "      <td>84.31</td>\n",
       "      <td>84.19</td>\n",
       "      <td>0.12</td>\n",
       "      <td>0.00</td>\n",
       "      <td>0.0000</td>\n",
       "      <td>-0.692982</td>\n",
       "      <td>0.0</td>\n",
       "    </tr>\n",
       "  </tbody>\n",
       "</table>\n",
       "<p>5 rows × 50 columns</p>\n",
       "</div>"
      ],
      "text/plain": [
       "                       ts    bp1  bq1    ap1  aq1    bp2  bq2    ap2  aq2  \\\n",
       "0 2017-01-02 09:01:18.813  84.19   35  84.31   38  84.18   35  84.34   50   \n",
       "1 2017-01-02 09:01:18.813  84.19   35  84.31  128  84.18   35  84.34   50   \n",
       "2 2017-01-02 09:01:19.893  84.19   35  84.31  193  84.18   35  84.34   50   \n",
       "3 2017-01-02 09:01:20.553  84.19   35  84.31  193  84.18   35  84.34   50   \n",
       "4 2017-01-02 09:01:20.553  84.19   35  84.31  193  84.18   35  84.33   53   \n",
       "\n",
       "     bp3  ...  aq10  mid price  weighted mid price  ask price  bid price  \\\n",
       "0  84.16  ...    55      84.25           84.247534      84.31      84.19   \n",
       "1  84.16  ...    55      84.25           84.215767      84.31      84.19   \n",
       "2  84.16  ...    55      84.25           84.208421      84.31      84.19   \n",
       "3  84.16  ...    55      84.25           84.208421      84.31      84.19   \n",
       "4  84.16  ...    75      84.25           84.208421      84.31      84.19   \n",
       "\n",
       "   spread  duration  weighted spread  imbalance  mid price move  \n",
       "0    0.12       NaN              NaN  -0.041096             NaN  \n",
       "1    0.12      0.00           0.0000  -0.570552             0.0  \n",
       "2    0.12      1.08           0.1296  -0.692982             0.0  \n",
       "3    0.12      0.66           0.0792  -0.692982             0.0  \n",
       "4    0.12      0.00           0.0000  -0.692982             0.0  \n",
       "\n",
       "[5 rows x 50 columns]"
      ]
     },
     "execution_count": 22,
     "metadata": {},
     "output_type": "execute_result"
    }
   ],
   "source": [
    "df_q.head()"
   ]
  },
  {
   "attachments": {},
   "cell_type": "markdown",
   "metadata": {},
   "source": [
    "# Plot."
   ]
  },
  {
   "cell_type": "code",
   "execution_count": 23,
   "metadata": {},
   "outputs": [
    {
     "data": {
      "text/plain": [
       "<AxesSubplot: title={'center': 'Mid price move as a function of the imbalance.'}, xlabel='Imbalance', ylabel='Price in Euros'>"
      ]
     },
     "execution_count": 23,
     "metadata": {},
     "output_type": "execute_result"
    },
    {
     "data": {
      "image/png": "[encoded data removed]",
      "text/plain": [
       "<Figure size 640x480 with 1 Axes>"
      ]
     },
     "metadata": {},
     "output_type": "display_data"
    }
   ],
   "source": [
    "df_q.sort_values(by = 'imbalance', \n",
    "                 ascending=True, \n",
    "                 inplace=False, \n",
    "                 kind='heapsort').plot(x = 'imbalance', \n",
    "                                        y = ['mid price move'], \n",
    "                                        #use_index = False,\n",
    "                                        kind = 'line',\n",
    "                                        title = 'Mid price move as a function of the imbalance.',\n",
    "                                        grid = True,\n",
    "                                        legend = True,\n",
    "                                        xlabel = 'Imbalance',\n",
    "                                        ylabel = 'Price in Euros',\n",
    "                                        rot = 90,\n",
    "                                        )"
   ]
  },
  {
   "attachments": {},
   "cell_type": "markdown",
   "metadata": {},
   "source": [
    "We do not really see something here, the price movements are not really due to the imbalance. Perhaps it will be more obvious with the weigthed mid price, since the volumes appears in both the imbalance and the weighted mid price formula."
   ]
  },
  {
   "cell_type": "code",
   "execution_count": 24,
   "metadata": {},
   "outputs": [],
   "source": [
    "df_q['weighted mid price move'] = df_q['weighted mid price'].pct_change() * 100"
   ]
  },
  {
   "cell_type": "code",
   "execution_count": 25,
   "metadata": {},
   "outputs": [
    {
     "data": {
      "text/plain": [
       "<AxesSubplot: title={'center': 'Weighted mid price move as a function of the imbalance.'}, xlabel='Imbalance', ylabel='Price in Euros'>"
      ]
     },
     "execution_count": 25,
     "metadata": {},
     "output_type": "execute_result"
    },
    {
     "data": {
      "image/png": "[encoded data removed]",
      "text/plain": [
       "<Figure size 640x480 with 1 Axes>"
      ]
     },
     "metadata": {},
     "output_type": "display_data"
    }
   ],
   "source": [
    "df_q.sort_values(by = 'imbalance', \n",
    "                 ascending=True, \n",
    "                 inplace=False, \n",
    "                 kind='heapsort').plot(x = 'imbalance', \n",
    "                                        y = ['weighted mid price move'], \n",
    "                                        #use_index = False,\n",
    "                                        kind = 'line',\n",
    "                                        title = 'Weighted mid price move as a function of the imbalance.',\n",
    "                                        grid = True,\n",
    "                                        legend = True,\n",
    "                                        xlabel = 'Imbalance',\n",
    "                                        ylabel = 'Price in Euros',\n",
    "                                        rot = 90,\n",
    "                                        )"
   ]
  },
  {
   "attachments": {},
   "cell_type": "markdown",
   "metadata": {},
   "source": [
    "One can see a slight increasing trend, since the curve is crossing some horizontal lines of the grid. However it is still very noisy. The trend is positive which makes sense from an economical point of view."
   ]
  },
  {
   "attachments": {},
   "cell_type": "markdown",
   "metadata": {},
   "source": [
    "# 4\\ Autocorrelations of the signs."
   ]
  },
  {
   "attachments": {},
   "cell_type": "markdown",
   "metadata": {},
   "source": [
    "## Compute the signs using a tick test."
   ]
  },
  {
   "cell_type": "code",
   "execution_count": 26,
   "metadata": {},
   "outputs": [
    {
     "data": {
      "text/html": [
       "<div>\n",
       "<style scoped>\n",
       "    .dataframe tbody tr th:only-of-type {\n",
       "        vertical-align: middle;\n",
       "    }\n",
       "\n",
       "    .dataframe tbody tr th {\n",
       "        vertical-align: top;\n",
       "    }\n",
       "\n",
       "    .dataframe thead th {\n",
       "        text-align: right;\n",
       "    }\n",
       "</style>\n",
       "<table border=\"1\" class=\"dataframe\">\n",
       "  <thead>\n",
       "    <tr style=\"text-align: right;\">\n",
       "      <th></th>\n",
       "      <th>ts</th>\n",
       "      <th>price</th>\n",
       "      <th>volume</th>\n",
       "    </tr>\n",
       "  </thead>\n",
       "  <tbody>\n",
       "    <tr>\n",
       "      <th>0</th>\n",
       "      <td>2017-01-02 09:01:15.893</td>\n",
       "      <td>84.31</td>\n",
       "      <td>90</td>\n",
       "    </tr>\n",
       "    <tr>\n",
       "      <th>1</th>\n",
       "      <td>2017-01-02 09:01:15.893</td>\n",
       "      <td>84.31</td>\n",
       "      <td>10</td>\n",
       "    </tr>\n",
       "    <tr>\n",
       "      <th>2</th>\n",
       "      <td>2017-01-02 09:01:18.813</td>\n",
       "      <td>84.31</td>\n",
       "      <td>12</td>\n",
       "    </tr>\n",
       "    <tr>\n",
       "      <th>3</th>\n",
       "      <td>2017-01-02 09:01:52.432</td>\n",
       "      <td>84.31</td>\n",
       "      <td>38</td>\n",
       "    </tr>\n",
       "    <tr>\n",
       "      <th>4</th>\n",
       "      <td>2017-01-02 09:01:52.452</td>\n",
       "      <td>84.31</td>\n",
       "      <td>62</td>\n",
       "    </tr>\n",
       "    <tr>\n",
       "      <th>5</th>\n",
       "      <td>2017-01-02 09:02:59.009</td>\n",
       "      <td>84.29</td>\n",
       "      <td>60</td>\n",
       "    </tr>\n",
       "    <tr>\n",
       "      <th>6</th>\n",
       "      <td>2017-01-02 09:02:59.009</td>\n",
       "      <td>84.29</td>\n",
       "      <td>64</td>\n",
       "    </tr>\n",
       "    <tr>\n",
       "      <th>7</th>\n",
       "      <td>2017-01-02 09:03:49.157</td>\n",
       "      <td>84.29</td>\n",
       "      <td>11</td>\n",
       "    </tr>\n",
       "    <tr>\n",
       "      <th>8</th>\n",
       "      <td>2017-01-02 09:05:11.114</td>\n",
       "      <td>84.23</td>\n",
       "      <td>1</td>\n",
       "    </tr>\n",
       "    <tr>\n",
       "      <th>9</th>\n",
       "      <td>2017-01-02 09:06:15.871</td>\n",
       "      <td>84.29</td>\n",
       "      <td>25</td>\n",
       "    </tr>\n",
       "    <tr>\n",
       "      <th>10</th>\n",
       "      <td>2017-01-02 09:06:15.871</td>\n",
       "      <td>84.29</td>\n",
       "      <td>32</td>\n",
       "    </tr>\n",
       "    <tr>\n",
       "      <th>11</th>\n",
       "      <td>2017-01-02 09:06:15.871</td>\n",
       "      <td>84.29</td>\n",
       "      <td>12</td>\n",
       "    </tr>\n",
       "    <tr>\n",
       "      <th>12</th>\n",
       "      <td>2017-01-02 09:06:15.871</td>\n",
       "      <td>84.30</td>\n",
       "      <td>66</td>\n",
       "    </tr>\n",
       "    <tr>\n",
       "      <th>13</th>\n",
       "      <td>2017-01-02 09:06:22.521</td>\n",
       "      <td>84.29</td>\n",
       "      <td>23</td>\n",
       "    </tr>\n",
       "    <tr>\n",
       "      <th>14</th>\n",
       "      <td>2017-01-02 09:06:47.949</td>\n",
       "      <td>84.34</td>\n",
       "      <td>20</td>\n",
       "    </tr>\n",
       "    <tr>\n",
       "      <th>15</th>\n",
       "      <td>2017-01-02 09:08:02.296</td>\n",
       "      <td>84.26</td>\n",
       "      <td>18</td>\n",
       "    </tr>\n",
       "    <tr>\n",
       "      <th>16</th>\n",
       "      <td>2017-01-02 09:08:02.296</td>\n",
       "      <td>84.26</td>\n",
       "      <td>15</td>\n",
       "    </tr>\n",
       "    <tr>\n",
       "      <th>17</th>\n",
       "      <td>2017-01-02 09:08:47.114</td>\n",
       "      <td>84.23</td>\n",
       "      <td>77</td>\n",
       "    </tr>\n",
       "    <tr>\n",
       "      <th>18</th>\n",
       "      <td>2017-01-02 09:08:47.124</td>\n",
       "      <td>84.23</td>\n",
       "      <td>73</td>\n",
       "    </tr>\n",
       "    <tr>\n",
       "      <th>19</th>\n",
       "      <td>2017-01-02 09:08:47.124</td>\n",
       "      <td>84.23</td>\n",
       "      <td>64</td>\n",
       "    </tr>\n",
       "  </tbody>\n",
       "</table>\n",
       "</div>"
      ],
      "text/plain": [
       "                         ts  price  volume\n",
       "0   2017-01-02 09:01:15.893  84.31      90\n",
       "1   2017-01-02 09:01:15.893  84.31      10\n",
       "2   2017-01-02 09:01:18.813  84.31      12\n",
       "3   2017-01-02 09:01:52.432  84.31      38\n",
       "4   2017-01-02 09:01:52.452  84.31      62\n",
       "5   2017-01-02 09:02:59.009  84.29      60\n",
       "6   2017-01-02 09:02:59.009  84.29      64\n",
       "7   2017-01-02 09:03:49.157  84.29      11\n",
       "8   2017-01-02 09:05:11.114  84.23       1\n",
       "9   2017-01-02 09:06:15.871  84.29      25\n",
       "10  2017-01-02 09:06:15.871  84.29      32\n",
       "11  2017-01-02 09:06:15.871  84.29      12\n",
       "12  2017-01-02 09:06:15.871  84.30      66\n",
       "13  2017-01-02 09:06:22.521  84.29      23\n",
       "14  2017-01-02 09:06:47.949  84.34      20\n",
       "15  2017-01-02 09:08:02.296  84.26      18\n",
       "16  2017-01-02 09:08:02.296  84.26      15\n",
       "17  2017-01-02 09:08:47.114  84.23      77\n",
       "18  2017-01-02 09:08:47.124  84.23      73\n",
       "19  2017-01-02 09:08:47.124  84.23      64"
      ]
     },
     "execution_count": 26,
     "metadata": {},
     "output_type": "execute_result"
    }
   ],
   "source": [
    "df_t.head(20)"
   ]
  },
  {
   "attachments": {},
   "cell_type": "markdown",
   "metadata": {},
   "source": [
    "The 'up' column contains 'True' iff the price went up. The same goes for 'down'."
   ]
  },
  {
   "cell_type": "code",
   "execution_count": 27,
   "metadata": {},
   "outputs": [],
   "source": [
    "df_t['up'] = (df_t['price'].diff() > 0) \n",
    "df_t['down'] = (df_t['price'].diff() < 0) "
   ]
  },
  {
   "cell_type": "code",
   "execution_count": 28,
   "metadata": {},
   "outputs": [
    {
     "data": {
      "text/html": [
       "<div>\n",
       "<style scoped>\n",
       "    .dataframe tbody tr th:only-of-type {\n",
       "        vertical-align: middle;\n",
       "    }\n",
       "\n",
       "    .dataframe tbody tr th {\n",
       "        vertical-align: top;\n",
       "    }\n",
       "\n",
       "    .dataframe thead th {\n",
       "        text-align: right;\n",
       "    }\n",
       "</style>\n",
       "<table border=\"1\" class=\"dataframe\">\n",
       "  <thead>\n",
       "    <tr style=\"text-align: right;\">\n",
       "      <th></th>\n",
       "      <th>ts</th>\n",
       "      <th>price</th>\n",
       "      <th>volume</th>\n",
       "      <th>up</th>\n",
       "      <th>down</th>\n",
       "    </tr>\n",
       "  </thead>\n",
       "  <tbody>\n",
       "    <tr>\n",
       "      <th>0</th>\n",
       "      <td>2017-01-02 09:01:15.893</td>\n",
       "      <td>84.31</td>\n",
       "      <td>90</td>\n",
       "      <td>False</td>\n",
       "      <td>False</td>\n",
       "    </tr>\n",
       "    <tr>\n",
       "      <th>1</th>\n",
       "      <td>2017-01-02 09:01:15.893</td>\n",
       "      <td>84.31</td>\n",
       "      <td>10</td>\n",
       "      <td>False</td>\n",
       "      <td>False</td>\n",
       "    </tr>\n",
       "    <tr>\n",
       "      <th>2</th>\n",
       "      <td>2017-01-02 09:01:18.813</td>\n",
       "      <td>84.31</td>\n",
       "      <td>12</td>\n",
       "      <td>False</td>\n",
       "      <td>False</td>\n",
       "    </tr>\n",
       "    <tr>\n",
       "      <th>3</th>\n",
       "      <td>2017-01-02 09:01:52.432</td>\n",
       "      <td>84.31</td>\n",
       "      <td>38</td>\n",
       "      <td>False</td>\n",
       "      <td>False</td>\n",
       "    </tr>\n",
       "    <tr>\n",
       "      <th>4</th>\n",
       "      <td>2017-01-02 09:01:52.452</td>\n",
       "      <td>84.31</td>\n",
       "      <td>62</td>\n",
       "      <td>False</td>\n",
       "      <td>False</td>\n",
       "    </tr>\n",
       "  </tbody>\n",
       "</table>\n",
       "</div>"
      ],
      "text/plain": [
       "                        ts  price  volume     up   down\n",
       "0  2017-01-02 09:01:15.893  84.31      90  False  False\n",
       "1  2017-01-02 09:01:15.893  84.31      10  False  False\n",
       "2  2017-01-02 09:01:18.813  84.31      12  False  False\n",
       "3  2017-01-02 09:01:52.432  84.31      38  False  False\n",
       "4  2017-01-02 09:01:52.452  84.31      62  False  False"
      ]
     },
     "execution_count": 28,
     "metadata": {},
     "output_type": "execute_result"
    }
   ],
   "source": [
    "df_t.head()"
   ]
  },
  {
   "cell_type": "code",
   "execution_count": 29,
   "metadata": {},
   "outputs": [],
   "source": [
    "df_t['sign'] = df_t.apply(lambda row: 1 if row['up'] else (-1 if row['down'] else np.NaN), axis = 1)"
   ]
  },
  {
   "cell_type": "code",
   "execution_count": 30,
   "metadata": {},
   "outputs": [
    {
     "data": {
      "text/html": [
       "<div>\n",
       "<style scoped>\n",
       "    .dataframe tbody tr th:only-of-type {\n",
       "        vertical-align: middle;\n",
       "    }\n",
       "\n",
       "    .dataframe tbody tr th {\n",
       "        vertical-align: top;\n",
       "    }\n",
       "\n",
       "    .dataframe thead th {\n",
       "        text-align: right;\n",
       "    }\n",
       "</style>\n",
       "<table border=\"1\" class=\"dataframe\">\n",
       "  <thead>\n",
       "    <tr style=\"text-align: right;\">\n",
       "      <th></th>\n",
       "      <th>ts</th>\n",
       "      <th>price</th>\n",
       "      <th>volume</th>\n",
       "      <th>up</th>\n",
       "      <th>down</th>\n",
       "      <th>sign</th>\n",
       "    </tr>\n",
       "  </thead>\n",
       "  <tbody>\n",
       "    <tr>\n",
       "      <th>0</th>\n",
       "      <td>2017-01-02 09:01:15.893</td>\n",
       "      <td>84.31</td>\n",
       "      <td>90</td>\n",
       "      <td>False</td>\n",
       "      <td>False</td>\n",
       "      <td>NaN</td>\n",
       "    </tr>\n",
       "    <tr>\n",
       "      <th>1</th>\n",
       "      <td>2017-01-02 09:01:15.893</td>\n",
       "      <td>84.31</td>\n",
       "      <td>10</td>\n",
       "      <td>False</td>\n",
       "      <td>False</td>\n",
       "      <td>NaN</td>\n",
       "    </tr>\n",
       "    <tr>\n",
       "      <th>2</th>\n",
       "      <td>2017-01-02 09:01:18.813</td>\n",
       "      <td>84.31</td>\n",
       "      <td>12</td>\n",
       "      <td>False</td>\n",
       "      <td>False</td>\n",
       "      <td>NaN</td>\n",
       "    </tr>\n",
       "    <tr>\n",
       "      <th>3</th>\n",
       "      <td>2017-01-02 09:01:52.432</td>\n",
       "      <td>84.31</td>\n",
       "      <td>38</td>\n",
       "      <td>False</td>\n",
       "      <td>False</td>\n",
       "      <td>NaN</td>\n",
       "    </tr>\n",
       "    <tr>\n",
       "      <th>4</th>\n",
       "      <td>2017-01-02 09:01:52.452</td>\n",
       "      <td>84.31</td>\n",
       "      <td>62</td>\n",
       "      <td>False</td>\n",
       "      <td>False</td>\n",
       "      <td>NaN</td>\n",
       "    </tr>\n",
       "    <tr>\n",
       "      <th>5</th>\n",
       "      <td>2017-01-02 09:02:59.009</td>\n",
       "      <td>84.29</td>\n",
       "      <td>60</td>\n",
       "      <td>False</td>\n",
       "      <td>True</td>\n",
       "      <td>-1.0</td>\n",
       "    </tr>\n",
       "    <tr>\n",
       "      <th>6</th>\n",
       "      <td>2017-01-02 09:02:59.009</td>\n",
       "      <td>84.29</td>\n",
       "      <td>64</td>\n",
       "      <td>False</td>\n",
       "      <td>False</td>\n",
       "      <td>NaN</td>\n",
       "    </tr>\n",
       "    <tr>\n",
       "      <th>7</th>\n",
       "      <td>2017-01-02 09:03:49.157</td>\n",
       "      <td>84.29</td>\n",
       "      <td>11</td>\n",
       "      <td>False</td>\n",
       "      <td>False</td>\n",
       "      <td>NaN</td>\n",
       "    </tr>\n",
       "    <tr>\n",
       "      <th>8</th>\n",
       "      <td>2017-01-02 09:05:11.114</td>\n",
       "      <td>84.23</td>\n",
       "      <td>1</td>\n",
       "      <td>False</td>\n",
       "      <td>True</td>\n",
       "      <td>-1.0</td>\n",
       "    </tr>\n",
       "    <tr>\n",
       "      <th>9</th>\n",
       "      <td>2017-01-02 09:06:15.871</td>\n",
       "      <td>84.29</td>\n",
       "      <td>25</td>\n",
       "      <td>True</td>\n",
       "      <td>False</td>\n",
       "      <td>1.0</td>\n",
       "    </tr>\n",
       "    <tr>\n",
       "      <th>10</th>\n",
       "      <td>2017-01-02 09:06:15.871</td>\n",
       "      <td>84.29</td>\n",
       "      <td>32</td>\n",
       "      <td>False</td>\n",
       "      <td>False</td>\n",
       "      <td>NaN</td>\n",
       "    </tr>\n",
       "    <tr>\n",
       "      <th>11</th>\n",
       "      <td>2017-01-02 09:06:15.871</td>\n",
       "      <td>84.29</td>\n",
       "      <td>12</td>\n",
       "      <td>False</td>\n",
       "      <td>False</td>\n",
       "      <td>NaN</td>\n",
       "    </tr>\n",
       "    <tr>\n",
       "      <th>12</th>\n",
       "      <td>2017-01-02 09:06:15.871</td>\n",
       "      <td>84.30</td>\n",
       "      <td>66</td>\n",
       "      <td>True</td>\n",
       "      <td>False</td>\n",
       "      <td>1.0</td>\n",
       "    </tr>\n",
       "    <tr>\n",
       "      <th>13</th>\n",
       "      <td>2017-01-02 09:06:22.521</td>\n",
       "      <td>84.29</td>\n",
       "      <td>23</td>\n",
       "      <td>False</td>\n",
       "      <td>True</td>\n",
       "      <td>-1.0</td>\n",
       "    </tr>\n",
       "  </tbody>\n",
       "</table>\n",
       "</div>"
      ],
      "text/plain": [
       "                         ts  price  volume     up   down  sign\n",
       "0   2017-01-02 09:01:15.893  84.31      90  False  False   NaN\n",
       "1   2017-01-02 09:01:15.893  84.31      10  False  False   NaN\n",
       "2   2017-01-02 09:01:18.813  84.31      12  False  False   NaN\n",
       "3   2017-01-02 09:01:52.432  84.31      38  False  False   NaN\n",
       "4   2017-01-02 09:01:52.452  84.31      62  False  False   NaN\n",
       "5   2017-01-02 09:02:59.009  84.29      60  False   True  -1.0\n",
       "6   2017-01-02 09:02:59.009  84.29      64  False  False   NaN\n",
       "7   2017-01-02 09:03:49.157  84.29      11  False  False   NaN\n",
       "8   2017-01-02 09:05:11.114  84.23       1  False   True  -1.0\n",
       "9   2017-01-02 09:06:15.871  84.29      25   True  False   1.0\n",
       "10  2017-01-02 09:06:15.871  84.29      32  False  False   NaN\n",
       "11  2017-01-02 09:06:15.871  84.29      12  False  False   NaN\n",
       "12  2017-01-02 09:06:15.871  84.30      66   True  False   1.0\n",
       "13  2017-01-02 09:06:22.521  84.29      23  False   True  -1.0"
      ]
     },
     "execution_count": 30,
     "metadata": {},
     "output_type": "execute_result"
    }
   ],
   "source": [
    "df_t.head(14)"
   ]
  },
  {
   "cell_type": "code",
   "execution_count": 31,
   "metadata": {},
   "outputs": [],
   "source": [
    "df_t['sign'] = df_t['sign'].fillna(method = 'ffill')"
   ]
  },
  {
   "cell_type": "code",
   "execution_count": 32,
   "metadata": {},
   "outputs": [
    {
     "data": {
      "text/html": [
       "<div>\n",
       "<style scoped>\n",
       "    .dataframe tbody tr th:only-of-type {\n",
       "        vertical-align: middle;\n",
       "    }\n",
       "\n",
       "    .dataframe tbody tr th {\n",
       "        vertical-align: top;\n",
       "    }\n",
       "\n",
       "    .dataframe thead th {\n",
       "        text-align: right;\n",
       "    }\n",
       "</style>\n",
       "<table border=\"1\" class=\"dataframe\">\n",
       "  <thead>\n",
       "    <tr style=\"text-align: right;\">\n",
       "      <th></th>\n",
       "      <th>ts</th>\n",
       "      <th>price</th>\n",
       "      <th>volume</th>\n",
       "      <th>up</th>\n",
       "      <th>down</th>\n",
       "      <th>sign</th>\n",
       "    </tr>\n",
       "  </thead>\n",
       "  <tbody>\n",
       "    <tr>\n",
       "      <th>0</th>\n",
       "      <td>2017-01-02 09:01:15.893</td>\n",
       "      <td>84.31</td>\n",
       "      <td>90</td>\n",
       "      <td>False</td>\n",
       "      <td>False</td>\n",
       "      <td>NaN</td>\n",
       "    </tr>\n",
       "    <tr>\n",
       "      <th>1</th>\n",
       "      <td>2017-01-02 09:01:15.893</td>\n",
       "      <td>84.31</td>\n",
       "      <td>10</td>\n",
       "      <td>False</td>\n",
       "      <td>False</td>\n",
       "      <td>NaN</td>\n",
       "    </tr>\n",
       "    <tr>\n",
       "      <th>2</th>\n",
       "      <td>2017-01-02 09:01:18.813</td>\n",
       "      <td>84.31</td>\n",
       "      <td>12</td>\n",
       "      <td>False</td>\n",
       "      <td>False</td>\n",
       "      <td>NaN</td>\n",
       "    </tr>\n",
       "    <tr>\n",
       "      <th>3</th>\n",
       "      <td>2017-01-02 09:01:52.432</td>\n",
       "      <td>84.31</td>\n",
       "      <td>38</td>\n",
       "      <td>False</td>\n",
       "      <td>False</td>\n",
       "      <td>NaN</td>\n",
       "    </tr>\n",
       "    <tr>\n",
       "      <th>4</th>\n",
       "      <td>2017-01-02 09:01:52.452</td>\n",
       "      <td>84.31</td>\n",
       "      <td>62</td>\n",
       "      <td>False</td>\n",
       "      <td>False</td>\n",
       "      <td>NaN</td>\n",
       "    </tr>\n",
       "    <tr>\n",
       "      <th>5</th>\n",
       "      <td>2017-01-02 09:02:59.009</td>\n",
       "      <td>84.29</td>\n",
       "      <td>60</td>\n",
       "      <td>False</td>\n",
       "      <td>True</td>\n",
       "      <td>-1.0</td>\n",
       "    </tr>\n",
       "    <tr>\n",
       "      <th>6</th>\n",
       "      <td>2017-01-02 09:02:59.009</td>\n",
       "      <td>84.29</td>\n",
       "      <td>64</td>\n",
       "      <td>False</td>\n",
       "      <td>False</td>\n",
       "      <td>-1.0</td>\n",
       "    </tr>\n",
       "  </tbody>\n",
       "</table>\n",
       "</div>"
      ],
      "text/plain": [
       "                        ts  price  volume     up   down  sign\n",
       "0  2017-01-02 09:01:15.893  84.31      90  False  False   NaN\n",
       "1  2017-01-02 09:01:15.893  84.31      10  False  False   NaN\n",
       "2  2017-01-02 09:01:18.813  84.31      12  False  False   NaN\n",
       "3  2017-01-02 09:01:52.432  84.31      38  False  False   NaN\n",
       "4  2017-01-02 09:01:52.452  84.31      62  False  False   NaN\n",
       "5  2017-01-02 09:02:59.009  84.29      60  False   True  -1.0\n",
       "6  2017-01-02 09:02:59.009  84.29      64  False  False  -1.0"
      ]
     },
     "execution_count": 32,
     "metadata": {},
     "output_type": "execute_result"
    }
   ],
   "source": [
    "df_t.head(7)"
   ]
  },
  {
   "cell_type": "code",
   "execution_count": 33,
   "metadata": {},
   "outputs": [
    {
     "name": "stdout",
     "output_type": "stream",
     "text": [
      "2380\n",
      "2375\n"
     ]
    }
   ],
   "source": [
    "print(df_t.shape[0])\n",
    "df_t = df_t.dropna(axis = 0)\n",
    "print(df_t.shape[0])"
   ]
  },
  {
   "attachments": {},
   "cell_type": "markdown",
   "metadata": {},
   "source": [
    "## Autocorrelation."
   ]
  },
  {
   "cell_type": "code",
   "execution_count": 34,
   "metadata": {},
   "outputs": [],
   "source": [
    "num_autocorrs = 15"
   ]
  },
  {
   "cell_type": "code",
   "execution_count": 35,
   "metadata": {},
   "outputs": [],
   "source": [
    "autocorrs = [df_t['sign'].autocorr(lag = i) for i in range(num_autocorrs)]"
   ]
  },
  {
   "cell_type": "code",
   "execution_count": 36,
   "metadata": {},
   "outputs": [
    {
     "name": "stderr",
     "output_type": "stream",
     "text": [
      "No artists with labels found to put in legend.  Note that artists whose label start with an underscore are ignored when legend() is called with no argument.\n"
     ]
    },
    {
     "data": {
      "text/plain": [
       "<matplotlib.legend.Legend at 0x7f2a00453940>"
      ]
     },
     "execution_count": 36,
     "metadata": {},
     "output_type": "execute_result"
    },
    {
     "data": {
      "image/png": "[encoded data removed]",
      "text/plain": [
       "<Figure size 640x480 with 1 Axes>"
      ]
     },
     "metadata": {},
     "output_type": "display_data"
    }
   ],
   "source": [
    "fig, ax = plt.subplots()\n",
    "ax.scatter(list(range(num_autocorrs)), autocorrs, c = 'b')\n",
    "ax.set_title('Autocorrelations of the signs.')\n",
    "ax.set_ylabel('autocorr')\n",
    "ax.set_xlabel('lag')\n",
    "ax.xaxis.set_tick_params(rotation=45)\n",
    "ax.grid(True)\n",
    "ax.legend()"
   ]
  },
  {
   "attachments": {},
   "cell_type": "markdown",
   "metadata": {},
   "source": [
    "These autocorrelations are very high, which is line with the course, and results from some stylized facts, like consensus reinforcement and momentum effects. "
   ]
  },
  {
   "attachments": {},
   "cell_type": "markdown",
   "metadata": {},
   "source": [
    "# 5\\ Average shape of the LOB."
   ]
  },
  {
   "cell_type": "code",
   "execution_count": 37,
   "metadata": {},
   "outputs": [
    {
     "data": {
      "text/html": [
       "<div>\n",
       "<style scoped>\n",
       "    .dataframe tbody tr th:only-of-type {\n",
       "        vertical-align: middle;\n",
       "    }\n",
       "\n",
       "    .dataframe tbody tr th {\n",
       "        vertical-align: top;\n",
       "    }\n",
       "\n",
       "    .dataframe thead th {\n",
       "        text-align: right;\n",
       "    }\n",
       "</style>\n",
       "<table border=\"1\" class=\"dataframe\">\n",
       "  <thead>\n",
       "    <tr style=\"text-align: right;\">\n",
       "      <th></th>\n",
       "      <th>ts</th>\n",
       "      <th>bp1</th>\n",
       "      <th>bq1</th>\n",
       "      <th>ap1</th>\n",
       "      <th>aq1</th>\n",
       "      <th>bp2</th>\n",
       "      <th>bq2</th>\n",
       "      <th>ap2</th>\n",
       "      <th>aq2</th>\n",
       "      <th>bp3</th>\n",
       "      <th>...</th>\n",
       "      <th>mid price</th>\n",
       "      <th>weighted mid price</th>\n",
       "      <th>ask price</th>\n",
       "      <th>bid price</th>\n",
       "      <th>spread</th>\n",
       "      <th>duration</th>\n",
       "      <th>weighted spread</th>\n",
       "      <th>imbalance</th>\n",
       "      <th>mid price move</th>\n",
       "      <th>weighted mid price move</th>\n",
       "    </tr>\n",
       "  </thead>\n",
       "  <tbody>\n",
       "    <tr>\n",
       "      <th>0</th>\n",
       "      <td>2017-01-02 09:01:18.813</td>\n",
       "      <td>84.19</td>\n",
       "      <td>35</td>\n",
       "      <td>84.31</td>\n",
       "      <td>38</td>\n",
       "      <td>84.18</td>\n",
       "      <td>35</td>\n",
       "      <td>84.34</td>\n",
       "      <td>50</td>\n",
       "      <td>84.16</td>\n",
       "      <td>...</td>\n",
       "      <td>84.25</td>\n",
       "      <td>84.247534</td>\n",
       "      <td>84.31</td>\n",
       "      <td>84.19</td>\n",
       "      <td>0.12</td>\n",
       "      <td>NaN</td>\n",
       "      <td>NaN</td>\n",
       "      <td>-0.041096</td>\n",
       "      <td>NaN</td>\n",
       "      <td>NaN</td>\n",
       "    </tr>\n",
       "    <tr>\n",
       "      <th>1</th>\n",
       "      <td>2017-01-02 09:01:18.813</td>\n",
       "      <td>84.19</td>\n",
       "      <td>35</td>\n",
       "      <td>84.31</td>\n",
       "      <td>128</td>\n",
       "      <td>84.18</td>\n",
       "      <td>35</td>\n",
       "      <td>84.34</td>\n",
       "      <td>50</td>\n",
       "      <td>84.16</td>\n",
       "      <td>...</td>\n",
       "      <td>84.25</td>\n",
       "      <td>84.215767</td>\n",
       "      <td>84.31</td>\n",
       "      <td>84.19</td>\n",
       "      <td>0.12</td>\n",
       "      <td>0.00</td>\n",
       "      <td>0.0000</td>\n",
       "      <td>-0.570552</td>\n",
       "      <td>0.0</td>\n",
       "      <td>-0.037707</td>\n",
       "    </tr>\n",
       "    <tr>\n",
       "      <th>2</th>\n",
       "      <td>2017-01-02 09:01:19.893</td>\n",
       "      <td>84.19</td>\n",
       "      <td>35</td>\n",
       "      <td>84.31</td>\n",
       "      <td>193</td>\n",
       "      <td>84.18</td>\n",
       "      <td>35</td>\n",
       "      <td>84.34</td>\n",
       "      <td>50</td>\n",
       "      <td>84.16</td>\n",
       "      <td>...</td>\n",
       "      <td>84.25</td>\n",
       "      <td>84.208421</td>\n",
       "      <td>84.31</td>\n",
       "      <td>84.19</td>\n",
       "      <td>0.12</td>\n",
       "      <td>1.08</td>\n",
       "      <td>0.1296</td>\n",
       "      <td>-0.692982</td>\n",
       "      <td>0.0</td>\n",
       "      <td>-0.008723</td>\n",
       "    </tr>\n",
       "    <tr>\n",
       "      <th>3</th>\n",
       "      <td>2017-01-02 09:01:20.553</td>\n",
       "      <td>84.19</td>\n",
       "      <td>35</td>\n",
       "      <td>84.31</td>\n",
       "      <td>193</td>\n",
       "      <td>84.18</td>\n",
       "      <td>35</td>\n",
       "      <td>84.34</td>\n",
       "      <td>50</td>\n",
       "      <td>84.16</td>\n",
       "      <td>...</td>\n",
       "      <td>84.25</td>\n",
       "      <td>84.208421</td>\n",
       "      <td>84.31</td>\n",
       "      <td>84.19</td>\n",
       "      <td>0.12</td>\n",
       "      <td>0.66</td>\n",
       "      <td>0.0792</td>\n",
       "      <td>-0.692982</td>\n",
       "      <td>0.0</td>\n",
       "      <td>0.000000</td>\n",
       "    </tr>\n",
       "    <tr>\n",
       "      <th>4</th>\n",
       "      <td>2017-01-02 09:01:20.553</td>\n",
       "      <td>84.19</td>\n",
       "      <td>35</td>\n",
       "      <td>84.31</td>\n",
       "      <td>193</td>\n",
       "      <td>84.18</td>\n",
       "      <td>35</td>\n",
       "      <td>84.33</td>\n",
       "      <td>53</td>\n",
       "      <td>84.16</td>\n",
       "      <td>...</td>\n",
       "      <td>84.25</td>\n",
       "      <td>84.208421</td>\n",
       "      <td>84.31</td>\n",
       "      <td>84.19</td>\n",
       "      <td>0.12</td>\n",
       "      <td>0.00</td>\n",
       "      <td>0.0000</td>\n",
       "      <td>-0.692982</td>\n",
       "      <td>0.0</td>\n",
       "      <td>0.000000</td>\n",
       "    </tr>\n",
       "  </tbody>\n",
       "</table>\n",
       "<p>5 rows × 51 columns</p>\n",
       "</div>"
      ],
      "text/plain": [
       "                       ts    bp1  bq1    ap1  aq1    bp2  bq2    ap2  aq2  \\\n",
       "0 2017-01-02 09:01:18.813  84.19   35  84.31   38  84.18   35  84.34   50   \n",
       "1 2017-01-02 09:01:18.813  84.19   35  84.31  128  84.18   35  84.34   50   \n",
       "2 2017-01-02 09:01:19.893  84.19   35  84.31  193  84.18   35  84.34   50   \n",
       "3 2017-01-02 09:01:20.553  84.19   35  84.31  193  84.18   35  84.34   50   \n",
       "4 2017-01-02 09:01:20.553  84.19   35  84.31  193  84.18   35  84.33   53   \n",
       "\n",
       "     bp3  ...  mid price  weighted mid price  ask price  bid price  spread  \\\n",
       "0  84.16  ...      84.25           84.247534      84.31      84.19    0.12   \n",
       "1  84.16  ...      84.25           84.215767      84.31      84.19    0.12   \n",
       "2  84.16  ...      84.25           84.208421      84.31      84.19    0.12   \n",
       "3  84.16  ...      84.25           84.208421      84.31      84.19    0.12   \n",
       "4  84.16  ...      84.25           84.208421      84.31      84.19    0.12   \n",
       "\n",
       "   duration  weighted spread  imbalance  mid price move  \\\n",
       "0       NaN              NaN  -0.041096             NaN   \n",
       "1      0.00           0.0000  -0.570552             0.0   \n",
       "2      1.08           0.1296  -0.692982             0.0   \n",
       "3      0.66           0.0792  -0.692982             0.0   \n",
       "4      0.00           0.0000  -0.692982             0.0   \n",
       "\n",
       "   weighted mid price move  \n",
       "0                      NaN  \n",
       "1                -0.037707  \n",
       "2                -0.008723  \n",
       "3                 0.000000  \n",
       "4                 0.000000  \n",
       "\n",
       "[5 rows x 51 columns]"
      ]
     },
     "execution_count": 37,
     "metadata": {},
     "output_type": "execute_result"
    }
   ],
   "source": [
    "df_q.head()"
   ]
  },
  {
   "cell_type": "code",
   "execution_count": 38,
   "metadata": {},
   "outputs": [
    {
     "name": "stderr",
     "output_type": "stream",
     "text": [
      "/tmp/ipykernel_203216/704866797.py:1: FutureWarning: DataFrame.mean and DataFrame.median with numeric_only=None will include datetime64 and datetime64tz columns in a future version.\n",
      "  df_avg_shape = df_q.mean(axis = 0)[:40]\n"
     ]
    }
   ],
   "source": [
    "df_avg_shape = df_q.mean(axis = 0)[:40]"
   ]
  },
  {
   "cell_type": "code",
   "execution_count": 39,
   "metadata": {},
   "outputs": [
    {
     "data": {
      "text/plain": [
       "bp1      85.164286\n",
       "bq1     289.613282\n",
       "ap1      85.196612\n",
       "aq1     306.138792\n",
       "bp2      85.153698\n",
       "bq2     501.467305\n",
       "ap2      85.207252\n",
       "aq2     523.414295\n",
       "bp3      85.143649\n",
       "bq3     573.256300\n",
       "ap3      85.217324\n",
       "aq3     597.773436\n",
       "bp4      85.133633\n",
       "bq4     550.582228\n",
       "ap4      85.227335\n",
       "aq4     615.678246\n",
       "bp5      85.123620\n",
       "bq5     498.190845\n",
       "ap5      85.237340\n",
       "aq5     575.227353\n",
       "bp6      85.113616\n",
       "bq6     388.433447\n",
       "ap6      85.247357\n",
       "aq6     478.455506\n",
       "bp7      85.103601\n",
       "bq7     365.808017\n",
       "ap7      85.257374\n",
       "aq7     459.326433\n",
       "bp8      85.093590\n",
       "bq8     441.751092\n",
       "ap8      85.267399\n",
       "aq8     502.980305\n",
       "bp9      85.083575\n",
       "bq9     537.865214\n",
       "ap9      85.277417\n",
       "aq9     594.820268\n",
       "bp10     85.073554\n",
       "bq10    493.476131\n",
       "ap10     85.287478\n",
       "aq10    541.672831\n",
       "dtype: float64"
      ]
     },
     "execution_count": 39,
     "metadata": {},
     "output_type": "execute_result"
    }
   ],
   "source": [
    "df_avg_shape"
   ]
  },
  {
   "cell_type": "code",
   "execution_count": 40,
   "metadata": {},
   "outputs": [
    {
     "data": {
      "text/plain": [
       "bq10    493.476131\n",
       "bq9     537.865214\n",
       "bq8     441.751092\n",
       "bq7     365.808017\n",
       "bq6     388.433447\n",
       "bq5     498.190845\n",
       "bq4     550.582228\n",
       "bq3     573.256300\n",
       "bq2     501.467305\n",
       "bq1     289.613282\n",
       "dtype: float64"
      ]
     },
     "execution_count": 40,
     "metadata": {},
     "output_type": "execute_result"
    }
   ],
   "source": [
    "df_bid_q = df_avg_shape.iloc[1::4][::-1]\n",
    "df_bid_q"
   ]
  },
  {
   "cell_type": "code",
   "execution_count": 41,
   "metadata": {},
   "outputs": [
    {
     "data": {
      "text/plain": [
       "aq1     306.138792\n",
       "aq2     523.414295\n",
       "aq3     597.773436\n",
       "aq4     615.678246\n",
       "aq5     575.227353\n",
       "aq6     478.455506\n",
       "aq7     459.326433\n",
       "aq8     502.980305\n",
       "aq9     594.820268\n",
       "aq10    541.672831\n",
       "dtype: float64"
      ]
     },
     "execution_count": 41,
     "metadata": {},
     "output_type": "execute_result"
    }
   ],
   "source": [
    "df_ask_q = df_avg_shape.iloc[3::4]\n",
    "df_ask_q"
   ]
  },
  {
   "cell_type": "code",
   "execution_count": 42,
   "metadata": {},
   "outputs": [
    {
     "data": {
      "text/plain": [
       "bp10    85.073554\n",
       "bp9     85.083575\n",
       "bp8     85.093590\n",
       "bp7     85.103601\n",
       "bp6     85.113616\n",
       "bp5     85.123620\n",
       "bp4     85.133633\n",
       "bp3     85.143649\n",
       "bp2     85.153698\n",
       "bp1     85.164286\n",
       "dtype: float64"
      ]
     },
     "execution_count": 42,
     "metadata": {},
     "output_type": "execute_result"
    }
   ],
   "source": [
    "df_bid_p = df_avg_shape.iloc[0::4][::-1]\n",
    "df_bid_p"
   ]
  },
  {
   "cell_type": "code",
   "execution_count": 43,
   "metadata": {},
   "outputs": [
    {
     "data": {
      "text/plain": [
       "ap1     85.196612\n",
       "ap2     85.207252\n",
       "ap3     85.217324\n",
       "ap4     85.227335\n",
       "ap5     85.237340\n",
       "ap6     85.247357\n",
       "ap7     85.257374\n",
       "ap8     85.267399\n",
       "ap9     85.277417\n",
       "ap10    85.287478\n",
       "dtype: float64"
      ]
     },
     "execution_count": 43,
     "metadata": {},
     "output_type": "execute_result"
    }
   ],
   "source": [
    "df_ask_p = df_avg_shape.iloc[2::4]\n",
    "df_ask_p"
   ]
  },
  {
   "cell_type": "code",
   "execution_count": 44,
   "metadata": {},
   "outputs": [
    {
     "data": {
      "text/plain": [
       "[85.19661161510427,\n",
       " 85.2072515572097,\n",
       " 85.21732444237676,\n",
       " 85.22733516838541,\n",
       " 85.23733994985913,\n",
       " 85.24735739577679,\n",
       " 85.25737432477837,\n",
       " 85.26739861983407,\n",
       " 85.27741722881288,\n",
       " 85.28747783722312]"
      ]
     },
     "execution_count": 44,
     "metadata": {},
     "output_type": "execute_result"
    }
   ],
   "source": [
    "df_ask_p.to_list()"
   ]
  },
  {
   "cell_type": "code",
   "execution_count": 45,
   "metadata": {},
   "outputs": [
    {
     "data": {
      "text/plain": [
       "0.010021064330231866"
      ]
     },
     "execution_count": 45,
     "metadata": {},
     "output_type": "execute_result"
    }
   ],
   "source": [
    "approximate_tick_size = df_bid_p[1] - df_bid_p[0]\n",
    "approximate_tick_size"
   ]
  },
  {
   "cell_type": "code",
   "execution_count": 46,
   "metadata": {},
   "outputs": [
    {
     "name": "stderr",
     "output_type": "stream",
     "text": [
      "No artists with labels found to put in legend.  Note that artists whose label start with an underscore are ignored when legend() is called with no argument.\n"
     ]
    },
    {
     "data": {
      "text/plain": [
       "<matplotlib.legend.Legend at 0x7f2a003ec850>"
      ]
     },
     "execution_count": 46,
     "metadata": {},
     "output_type": "execute_result"
    },
    {
     "data": {
      "image/png": "[encoded data removed]",
      "text/plain": [
       "<Figure size 1300x700 with 1 Axes>"
      ]
     },
     "metadata": {},
     "output_type": "display_data"
    }
   ],
   "source": [
    "fig, ax = plt.subplots(figsize=(13, 7))\n",
    "ax.bar(x = df_bid_p.to_list(), \n",
    "        height = df_bid_q.to_list(),\n",
    "        width = approximate_tick_size)\n",
    "ax.bar(x = df_ask_p.to_list(), \n",
    "        height = df_ask_q.to_list(),\n",
    "        width = approximate_tick_size)\n",
    "ax.set_title('Average shape of the LOB.')\n",
    "ax.set_ylabel('volume')\n",
    "ax.set_xlabel('value')\n",
    "ax.xaxis.set_tick_params(rotation=45)\n",
    "ax.set_xticks(df_bid_p.to_list() + df_ask_p.to_list())\n",
    "ax.grid(True)\n",
    "ax.legend()"
   ]
  },
  {
   "attachments": {},
   "cell_type": "markdown",
   "metadata": {},
   "source": [
    "This average shape seems rather symetrical, and in line with what has been said in the course."
   ]
  },
  {
   "attachments": {},
   "cell_type": "markdown",
   "metadata": {},
   "source": [
    "## The same in calendar time."
   ]
  },
  {
   "cell_type": "code",
   "execution_count": 47,
   "metadata": {},
   "outputs": [
    {
     "data": {
      "text/html": [
       "<div>\n",
       "<style scoped>\n",
       "    .dataframe tbody tr th:only-of-type {\n",
       "        vertical-align: middle;\n",
       "    }\n",
       "\n",
       "    .dataframe tbody tr th {\n",
       "        vertical-align: top;\n",
       "    }\n",
       "\n",
       "    .dataframe thead th {\n",
       "        text-align: right;\n",
       "    }\n",
       "</style>\n",
       "<table border=\"1\" class=\"dataframe\">\n",
       "  <thead>\n",
       "    <tr style=\"text-align: right;\">\n",
       "      <th></th>\n",
       "      <th>ts</th>\n",
       "      <th>bp1</th>\n",
       "      <th>bq1</th>\n",
       "      <th>ap1</th>\n",
       "      <th>aq1</th>\n",
       "      <th>bp2</th>\n",
       "      <th>bq2</th>\n",
       "      <th>ap2</th>\n",
       "      <th>aq2</th>\n",
       "      <th>bp3</th>\n",
       "      <th>...</th>\n",
       "      <th>mid price</th>\n",
       "      <th>weighted mid price</th>\n",
       "      <th>ask price</th>\n",
       "      <th>bid price</th>\n",
       "      <th>spread</th>\n",
       "      <th>duration</th>\n",
       "      <th>weighted spread</th>\n",
       "      <th>imbalance</th>\n",
       "      <th>mid price move</th>\n",
       "      <th>weighted mid price move</th>\n",
       "    </tr>\n",
       "  </thead>\n",
       "  <tbody>\n",
       "    <tr>\n",
       "      <th>0</th>\n",
       "      <td>2017-01-02 09:01:18.813</td>\n",
       "      <td>84.19</td>\n",
       "      <td>35</td>\n",
       "      <td>84.31</td>\n",
       "      <td>38</td>\n",
       "      <td>84.18</td>\n",
       "      <td>35</td>\n",
       "      <td>84.34</td>\n",
       "      <td>50</td>\n",
       "      <td>84.16</td>\n",
       "      <td>...</td>\n",
       "      <td>84.25</td>\n",
       "      <td>84.247534</td>\n",
       "      <td>84.31</td>\n",
       "      <td>84.19</td>\n",
       "      <td>0.12</td>\n",
       "      <td>NaN</td>\n",
       "      <td>NaN</td>\n",
       "      <td>-0.041096</td>\n",
       "      <td>NaN</td>\n",
       "      <td>NaN</td>\n",
       "    </tr>\n",
       "    <tr>\n",
       "      <th>1</th>\n",
       "      <td>2017-01-02 09:01:18.813</td>\n",
       "      <td>84.19</td>\n",
       "      <td>35</td>\n",
       "      <td>84.31</td>\n",
       "      <td>128</td>\n",
       "      <td>84.18</td>\n",
       "      <td>35</td>\n",
       "      <td>84.34</td>\n",
       "      <td>50</td>\n",
       "      <td>84.16</td>\n",
       "      <td>...</td>\n",
       "      <td>84.25</td>\n",
       "      <td>84.215767</td>\n",
       "      <td>84.31</td>\n",
       "      <td>84.19</td>\n",
       "      <td>0.12</td>\n",
       "      <td>0.00</td>\n",
       "      <td>0.0000</td>\n",
       "      <td>-0.570552</td>\n",
       "      <td>0.0</td>\n",
       "      <td>-0.037707</td>\n",
       "    </tr>\n",
       "    <tr>\n",
       "      <th>2</th>\n",
       "      <td>2017-01-02 09:01:19.893</td>\n",
       "      <td>84.19</td>\n",
       "      <td>35</td>\n",
       "      <td>84.31</td>\n",
       "      <td>193</td>\n",
       "      <td>84.18</td>\n",
       "      <td>35</td>\n",
       "      <td>84.34</td>\n",
       "      <td>50</td>\n",
       "      <td>84.16</td>\n",
       "      <td>...</td>\n",
       "      <td>84.25</td>\n",
       "      <td>84.208421</td>\n",
       "      <td>84.31</td>\n",
       "      <td>84.19</td>\n",
       "      <td>0.12</td>\n",
       "      <td>1.08</td>\n",
       "      <td>0.1296</td>\n",
       "      <td>-0.692982</td>\n",
       "      <td>0.0</td>\n",
       "      <td>-0.008723</td>\n",
       "    </tr>\n",
       "    <tr>\n",
       "      <th>3</th>\n",
       "      <td>2017-01-02 09:01:20.553</td>\n",
       "      <td>84.19</td>\n",
       "      <td>35</td>\n",
       "      <td>84.31</td>\n",
       "      <td>193</td>\n",
       "      <td>84.18</td>\n",
       "      <td>35</td>\n",
       "      <td>84.34</td>\n",
       "      <td>50</td>\n",
       "      <td>84.16</td>\n",
       "      <td>...</td>\n",
       "      <td>84.25</td>\n",
       "      <td>84.208421</td>\n",
       "      <td>84.31</td>\n",
       "      <td>84.19</td>\n",
       "      <td>0.12</td>\n",
       "      <td>0.66</td>\n",
       "      <td>0.0792</td>\n",
       "      <td>-0.692982</td>\n",
       "      <td>0.0</td>\n",
       "      <td>0.000000</td>\n",
       "    </tr>\n",
       "    <tr>\n",
       "      <th>4</th>\n",
       "      <td>2017-01-02 09:01:20.553</td>\n",
       "      <td>84.19</td>\n",
       "      <td>35</td>\n",
       "      <td>84.31</td>\n",
       "      <td>193</td>\n",
       "      <td>84.18</td>\n",
       "      <td>35</td>\n",
       "      <td>84.33</td>\n",
       "      <td>53</td>\n",
       "      <td>84.16</td>\n",
       "      <td>...</td>\n",
       "      <td>84.25</td>\n",
       "      <td>84.208421</td>\n",
       "      <td>84.31</td>\n",
       "      <td>84.19</td>\n",
       "      <td>0.12</td>\n",
       "      <td>0.00</td>\n",
       "      <td>0.0000</td>\n",
       "      <td>-0.692982</td>\n",
       "      <td>0.0</td>\n",
       "      <td>0.000000</td>\n",
       "    </tr>\n",
       "  </tbody>\n",
       "</table>\n",
       "<p>5 rows × 51 columns</p>\n",
       "</div>"
      ],
      "text/plain": [
       "                       ts    bp1  bq1    ap1  aq1    bp2  bq2    ap2  aq2  \\\n",
       "0 2017-01-02 09:01:18.813  84.19   35  84.31   38  84.18   35  84.34   50   \n",
       "1 2017-01-02 09:01:18.813  84.19   35  84.31  128  84.18   35  84.34   50   \n",
       "2 2017-01-02 09:01:19.893  84.19   35  84.31  193  84.18   35  84.34   50   \n",
       "3 2017-01-02 09:01:20.553  84.19   35  84.31  193  84.18   35  84.34   50   \n",
       "4 2017-01-02 09:01:20.553  84.19   35  84.31  193  84.18   35  84.33   53   \n",
       "\n",
       "     bp3  ...  mid price  weighted mid price  ask price  bid price  spread  \\\n",
       "0  84.16  ...      84.25           84.247534      84.31      84.19    0.12   \n",
       "1  84.16  ...      84.25           84.215767      84.31      84.19    0.12   \n",
       "2  84.16  ...      84.25           84.208421      84.31      84.19    0.12   \n",
       "3  84.16  ...      84.25           84.208421      84.31      84.19    0.12   \n",
       "4  84.16  ...      84.25           84.208421      84.31      84.19    0.12   \n",
       "\n",
       "   duration  weighted spread  imbalance  mid price move  \\\n",
       "0       NaN              NaN  -0.041096             NaN   \n",
       "1      0.00           0.0000  -0.570552             0.0   \n",
       "2      1.08           0.1296  -0.692982             0.0   \n",
       "3      0.66           0.0792  -0.692982             0.0   \n",
       "4      0.00           0.0000  -0.692982             0.0   \n",
       "\n",
       "   weighted mid price move  \n",
       "0                      NaN  \n",
       "1                -0.037707  \n",
       "2                -0.008723  \n",
       "3                 0.000000  \n",
       "4                 0.000000  \n",
       "\n",
       "[5 rows x 51 columns]"
      ]
     },
     "execution_count": 47,
     "metadata": {},
     "output_type": "execute_result"
    }
   ],
   "source": [
    "df_q.head()"
   ]
  },
  {
   "attachments": {},
   "cell_type": "markdown",
   "metadata": {},
   "source": [
    "The first row with NaNs is droped and the dataframe is truncated and converted in a lighter type to avoid the MemoryError. "
   ]
  },
  {
   "cell_type": "code",
   "execution_count": 48,
   "metadata": {},
   "outputs": [],
   "source": [
    "df_q = df_q.drop(0)"
   ]
  },
  {
   "cell_type": "code",
   "execution_count": 52,
   "metadata": {},
   "outputs": [
    {
     "data": {
      "text/html": [
       "<div>\n",
       "<style scoped>\n",
       "    .dataframe tbody tr th:only-of-type {\n",
       "        vertical-align: middle;\n",
       "    }\n",
       "\n",
       "    .dataframe tbody tr th {\n",
       "        vertical-align: top;\n",
       "    }\n",
       "\n",
       "    .dataframe thead th {\n",
       "        text-align: right;\n",
       "    }\n",
       "</style>\n",
       "<table border=\"1\" class=\"dataframe\">\n",
       "  <thead>\n",
       "    <tr style=\"text-align: right;\">\n",
       "      <th></th>\n",
       "      <th>ts</th>\n",
       "      <th>bp1</th>\n",
       "      <th>bq1</th>\n",
       "      <th>ap1</th>\n",
       "      <th>aq1</th>\n",
       "      <th>bp2</th>\n",
       "      <th>bq2</th>\n",
       "      <th>ap2</th>\n",
       "      <th>aq2</th>\n",
       "      <th>bp3</th>\n",
       "      <th>...</th>\n",
       "      <th>mid price</th>\n",
       "      <th>weighted mid price</th>\n",
       "      <th>ask price</th>\n",
       "      <th>bid price</th>\n",
       "      <th>spread</th>\n",
       "      <th>duration</th>\n",
       "      <th>weighted spread</th>\n",
       "      <th>imbalance</th>\n",
       "      <th>mid price move</th>\n",
       "      <th>weighted mid price move</th>\n",
       "    </tr>\n",
       "  </thead>\n",
       "  <tbody>\n",
       "    <tr>\n",
       "      <th>1</th>\n",
       "      <td>2017-01-02 09:01:18.813</td>\n",
       "      <td>84.19</td>\n",
       "      <td>35</td>\n",
       "      <td>84.31</td>\n",
       "      <td>128</td>\n",
       "      <td>84.18</td>\n",
       "      <td>35</td>\n",
       "      <td>84.34</td>\n",
       "      <td>50</td>\n",
       "      <td>84.16</td>\n",
       "      <td>...</td>\n",
       "      <td>84.25</td>\n",
       "      <td>84.215767</td>\n",
       "      <td>84.31</td>\n",
       "      <td>84.19</td>\n",
       "      <td>0.12</td>\n",
       "      <td>0.00</td>\n",
       "      <td>0.0000</td>\n",
       "      <td>-0.570552</td>\n",
       "      <td>0.0</td>\n",
       "      <td>-0.037707</td>\n",
       "    </tr>\n",
       "    <tr>\n",
       "      <th>2</th>\n",
       "      <td>2017-01-02 09:01:19.893</td>\n",
       "      <td>84.19</td>\n",
       "      <td>35</td>\n",
       "      <td>84.31</td>\n",
       "      <td>193</td>\n",
       "      <td>84.18</td>\n",
       "      <td>35</td>\n",
       "      <td>84.34</td>\n",
       "      <td>50</td>\n",
       "      <td>84.16</td>\n",
       "      <td>...</td>\n",
       "      <td>84.25</td>\n",
       "      <td>84.208421</td>\n",
       "      <td>84.31</td>\n",
       "      <td>84.19</td>\n",
       "      <td>0.12</td>\n",
       "      <td>1.08</td>\n",
       "      <td>0.1296</td>\n",
       "      <td>-0.692982</td>\n",
       "      <td>0.0</td>\n",
       "      <td>-0.008723</td>\n",
       "    </tr>\n",
       "    <tr>\n",
       "      <th>3</th>\n",
       "      <td>2017-01-02 09:01:20.553</td>\n",
       "      <td>84.19</td>\n",
       "      <td>35</td>\n",
       "      <td>84.31</td>\n",
       "      <td>193</td>\n",
       "      <td>84.18</td>\n",
       "      <td>35</td>\n",
       "      <td>84.34</td>\n",
       "      <td>50</td>\n",
       "      <td>84.16</td>\n",
       "      <td>...</td>\n",
       "      <td>84.25</td>\n",
       "      <td>84.208421</td>\n",
       "      <td>84.31</td>\n",
       "      <td>84.19</td>\n",
       "      <td>0.12</td>\n",
       "      <td>0.66</td>\n",
       "      <td>0.0792</td>\n",
       "      <td>-0.692982</td>\n",
       "      <td>0.0</td>\n",
       "      <td>0.000000</td>\n",
       "    </tr>\n",
       "    <tr>\n",
       "      <th>4</th>\n",
       "      <td>2017-01-02 09:01:20.553</td>\n",
       "      <td>84.19</td>\n",
       "      <td>35</td>\n",
       "      <td>84.31</td>\n",
       "      <td>193</td>\n",
       "      <td>84.18</td>\n",
       "      <td>35</td>\n",
       "      <td>84.33</td>\n",
       "      <td>53</td>\n",
       "      <td>84.16</td>\n",
       "      <td>...</td>\n",
       "      <td>84.25</td>\n",
       "      <td>84.208421</td>\n",
       "      <td>84.31</td>\n",
       "      <td>84.19</td>\n",
       "      <td>0.12</td>\n",
       "      <td>0.00</td>\n",
       "      <td>0.0000</td>\n",
       "      <td>-0.692982</td>\n",
       "      <td>0.0</td>\n",
       "      <td>0.000000</td>\n",
       "    </tr>\n",
       "    <tr>\n",
       "      <th>5</th>\n",
       "      <td>2017-01-02 09:01:20.553</td>\n",
       "      <td>84.19</td>\n",
       "      <td>35</td>\n",
       "      <td>84.31</td>\n",
       "      <td>193</td>\n",
       "      <td>84.18</td>\n",
       "      <td>35</td>\n",
       "      <td>84.33</td>\n",
       "      <td>53</td>\n",
       "      <td>84.16</td>\n",
       "      <td>...</td>\n",
       "      <td>84.25</td>\n",
       "      <td>84.208421</td>\n",
       "      <td>84.31</td>\n",
       "      <td>84.19</td>\n",
       "      <td>0.12</td>\n",
       "      <td>0.00</td>\n",
       "      <td>0.0000</td>\n",
       "      <td>-0.692982</td>\n",
       "      <td>0.0</td>\n",
       "      <td>0.000000</td>\n",
       "    </tr>\n",
       "  </tbody>\n",
       "</table>\n",
       "<p>5 rows × 51 columns</p>\n",
       "</div>"
      ],
      "text/plain": [
       "                       ts    bp1  bq1    ap1  aq1    bp2  bq2    ap2  aq2  \\\n",
       "1 2017-01-02 09:01:18.813  84.19   35  84.31  128  84.18   35  84.34   50   \n",
       "2 2017-01-02 09:01:19.893  84.19   35  84.31  193  84.18   35  84.34   50   \n",
       "3 2017-01-02 09:01:20.553  84.19   35  84.31  193  84.18   35  84.34   50   \n",
       "4 2017-01-02 09:01:20.553  84.19   35  84.31  193  84.18   35  84.33   53   \n",
       "5 2017-01-02 09:01:20.553  84.19   35  84.31  193  84.18   35  84.33   53   \n",
       "\n",
       "     bp3  ...  mid price  weighted mid price  ask price  bid price  spread  \\\n",
       "1  84.16  ...      84.25           84.215767      84.31      84.19    0.12   \n",
       "2  84.16  ...      84.25           84.208421      84.31      84.19    0.12   \n",
       "3  84.16  ...      84.25           84.208421      84.31      84.19    0.12   \n",
       "4  84.16  ...      84.25           84.208421      84.31      84.19    0.12   \n",
       "5  84.16  ...      84.25           84.208421      84.31      84.19    0.12   \n",
       "\n",
       "   duration  weighted spread  imbalance  mid price move  \\\n",
       "1      0.00           0.0000  -0.570552             0.0   \n",
       "2      1.08           0.1296  -0.692982             0.0   \n",
       "3      0.66           0.0792  -0.692982             0.0   \n",
       "4      0.00           0.0000  -0.692982             0.0   \n",
       "5      0.00           0.0000  -0.692982             0.0   \n",
       "\n",
       "   weighted mid price move  \n",
       "1                -0.037707  \n",
       "2                -0.008723  \n",
       "3                 0.000000  \n",
       "4                 0.000000  \n",
       "5                 0.000000  \n",
       "\n",
       "[5 rows x 51 columns]"
      ]
     },
     "execution_count": 52,
     "metadata": {},
     "output_type": "execute_result"
    }
   ],
   "source": [
    "df_q.head()"
   ]
  },
  {
   "cell_type": "code",
   "execution_count": 85,
   "metadata": {},
   "outputs": [],
   "source": [
    "df_q_calendar = df_q.iloc[:,1:].astype('float32')"
   ]
  },
  {
   "cell_type": "code",
   "execution_count": 86,
   "metadata": {},
   "outputs": [
    {
     "data": {
      "text/html": [
       "<div>\n",
       "<style scoped>\n",
       "    .dataframe tbody tr th:only-of-type {\n",
       "        vertical-align: middle;\n",
       "    }\n",
       "\n",
       "    .dataframe tbody tr th {\n",
       "        vertical-align: top;\n",
       "    }\n",
       "\n",
       "    .dataframe thead th {\n",
       "        text-align: right;\n",
       "    }\n",
       "</style>\n",
       "<table border=\"1\" class=\"dataframe\">\n",
       "  <thead>\n",
       "    <tr style=\"text-align: right;\">\n",
       "      <th></th>\n",
       "      <th>bq1</th>\n",
       "      <th>bq2</th>\n",
       "      <th>bq3</th>\n",
       "      <th>bq4</th>\n",
       "      <th>bq5</th>\n",
       "      <th>bq6</th>\n",
       "      <th>bq7</th>\n",
       "      <th>bq8</th>\n",
       "      <th>bq9</th>\n",
       "      <th>bq10</th>\n",
       "      <th>...</th>\n",
       "      <th>ap1</th>\n",
       "      <th>ap2</th>\n",
       "      <th>ap3</th>\n",
       "      <th>ap4</th>\n",
       "      <th>ap5</th>\n",
       "      <th>ap6</th>\n",
       "      <th>ap7</th>\n",
       "      <th>ap8</th>\n",
       "      <th>ap9</th>\n",
       "      <th>ap10</th>\n",
       "    </tr>\n",
       "  </thead>\n",
       "  <tbody>\n",
       "    <tr>\n",
       "      <th>1</th>\n",
       "      <td>0.000000</td>\n",
       "      <td>0.000000</td>\n",
       "      <td>0.000000</td>\n",
       "      <td>0.000000</td>\n",
       "      <td>0.000000</td>\n",
       "      <td>0.000000</td>\n",
       "      <td>0.000000</td>\n",
       "      <td>0.000000</td>\n",
       "      <td>0.000000</td>\n",
       "      <td>0.000000</td>\n",
       "      <td>...</td>\n",
       "      <td>0.000000</td>\n",
       "      <td>0.000000</td>\n",
       "      <td>0.000000</td>\n",
       "      <td>0.000000</td>\n",
       "      <td>0.000000</td>\n",
       "      <td>0.000000</td>\n",
       "      <td>0.000000</td>\n",
       "      <td>0.000000</td>\n",
       "      <td>0.000000</td>\n",
       "      <td>0.000000</td>\n",
       "    </tr>\n",
       "    <tr>\n",
       "      <th>2</th>\n",
       "      <td>37.800003</td>\n",
       "      <td>37.800003</td>\n",
       "      <td>154.440002</td>\n",
       "      <td>115.560005</td>\n",
       "      <td>54.000004</td>\n",
       "      <td>221.400009</td>\n",
       "      <td>178.200012</td>\n",
       "      <td>113.400002</td>\n",
       "      <td>756.000000</td>\n",
       "      <td>59.400002</td>\n",
       "      <td>...</td>\n",
       "      <td>91.054802</td>\n",
       "      <td>91.087196</td>\n",
       "      <td>91.098000</td>\n",
       "      <td>91.108803</td>\n",
       "      <td>91.130402</td>\n",
       "      <td>91.141205</td>\n",
       "      <td>91.152008</td>\n",
       "      <td>91.162811</td>\n",
       "      <td>91.173599</td>\n",
       "      <td>91.195206</td>\n",
       "    </tr>\n",
       "    <tr>\n",
       "      <th>3</th>\n",
       "      <td>23.100000</td>\n",
       "      <td>23.100000</td>\n",
       "      <td>59.400002</td>\n",
       "      <td>70.620003</td>\n",
       "      <td>33.000000</td>\n",
       "      <td>135.300003</td>\n",
       "      <td>108.900002</td>\n",
       "      <td>69.300003</td>\n",
       "      <td>462.000031</td>\n",
       "      <td>36.300003</td>\n",
       "      <td>...</td>\n",
       "      <td>55.644600</td>\n",
       "      <td>55.664398</td>\n",
       "      <td>55.671001</td>\n",
       "      <td>55.677601</td>\n",
       "      <td>55.690800</td>\n",
       "      <td>55.697403</td>\n",
       "      <td>55.704002</td>\n",
       "      <td>55.710606</td>\n",
       "      <td>55.717201</td>\n",
       "      <td>55.730404</td>\n",
       "    </tr>\n",
       "    <tr>\n",
       "      <th>4</th>\n",
       "      <td>0.000000</td>\n",
       "      <td>0.000000</td>\n",
       "      <td>0.000000</td>\n",
       "      <td>0.000000</td>\n",
       "      <td>0.000000</td>\n",
       "      <td>0.000000</td>\n",
       "      <td>0.000000</td>\n",
       "      <td>0.000000</td>\n",
       "      <td>0.000000</td>\n",
       "      <td>0.000000</td>\n",
       "      <td>...</td>\n",
       "      <td>0.000000</td>\n",
       "      <td>0.000000</td>\n",
       "      <td>0.000000</td>\n",
       "      <td>0.000000</td>\n",
       "      <td>0.000000</td>\n",
       "      <td>0.000000</td>\n",
       "      <td>0.000000</td>\n",
       "      <td>0.000000</td>\n",
       "      <td>0.000000</td>\n",
       "      <td>0.000000</td>\n",
       "    </tr>\n",
       "    <tr>\n",
       "      <th>5</th>\n",
       "      <td>0.000000</td>\n",
       "      <td>0.000000</td>\n",
       "      <td>0.000000</td>\n",
       "      <td>0.000000</td>\n",
       "      <td>0.000000</td>\n",
       "      <td>0.000000</td>\n",
       "      <td>0.000000</td>\n",
       "      <td>0.000000</td>\n",
       "      <td>0.000000</td>\n",
       "      <td>0.000000</td>\n",
       "      <td>...</td>\n",
       "      <td>0.000000</td>\n",
       "      <td>0.000000</td>\n",
       "      <td>0.000000</td>\n",
       "      <td>0.000000</td>\n",
       "      <td>0.000000</td>\n",
       "      <td>0.000000</td>\n",
       "      <td>0.000000</td>\n",
       "      <td>0.000000</td>\n",
       "      <td>0.000000</td>\n",
       "      <td>0.000000</td>\n",
       "    </tr>\n",
       "  </tbody>\n",
       "</table>\n",
       "<p>5 rows × 40 columns</p>\n",
       "</div>"
      ],
      "text/plain": [
       "         bq1        bq2         bq3         bq4        bq5         bq6  \\\n",
       "1   0.000000   0.000000    0.000000    0.000000   0.000000    0.000000   \n",
       "2  37.800003  37.800003  154.440002  115.560005  54.000004  221.400009   \n",
       "3  23.100000  23.100000   59.400002   70.620003  33.000000  135.300003   \n",
       "4   0.000000   0.000000    0.000000    0.000000   0.000000    0.000000   \n",
       "5   0.000000   0.000000    0.000000    0.000000   0.000000    0.000000   \n",
       "\n",
       "          bq7         bq8         bq9       bq10  ...        ap1        ap2  \\\n",
       "1    0.000000    0.000000    0.000000   0.000000  ...   0.000000   0.000000   \n",
       "2  178.200012  113.400002  756.000000  59.400002  ...  91.054802  91.087196   \n",
       "3  108.900002   69.300003  462.000031  36.300003  ...  55.644600  55.664398   \n",
       "4    0.000000    0.000000    0.000000   0.000000  ...   0.000000   0.000000   \n",
       "5    0.000000    0.000000    0.000000   0.000000  ...   0.000000   0.000000   \n",
       "\n",
       "         ap3        ap4        ap5        ap6        ap7        ap8  \\\n",
       "1   0.000000   0.000000   0.000000   0.000000   0.000000   0.000000   \n",
       "2  91.098000  91.108803  91.130402  91.141205  91.152008  91.162811   \n",
       "3  55.671001  55.677601  55.690800  55.697403  55.704002  55.710606   \n",
       "4   0.000000   0.000000   0.000000   0.000000   0.000000   0.000000   \n",
       "5   0.000000   0.000000   0.000000   0.000000   0.000000   0.000000   \n",
       "\n",
       "         ap9       ap10  \n",
       "1   0.000000   0.000000  \n",
       "2  91.173599  91.195206  \n",
       "3  55.717201  55.730404  \n",
       "4   0.000000   0.000000  \n",
       "5   0.000000   0.000000  \n",
       "\n",
       "[5 rows x 40 columns]"
      ]
     },
     "execution_count": 86,
     "metadata": {},
     "output_type": "execute_result"
    }
   ],
   "source": [
    "df_q_calendar = df_q_calendar[[e + str(i) for e in ['bq', 'bp', 'aq', 'ap'] for i in range(1,11)]].multiply(df_q_calendar['duration'], axis = 'index')\n",
    "df_q_calendar.head()"
   ]
  },
  {
   "cell_type": "code",
   "execution_count": 87,
   "metadata": {},
   "outputs": [
    {
     "data": {
      "text/plain": [
       "bq1     122.874542\n",
       "bq2     228.519714\n",
       "bq3     250.725922\n",
       "bq4     231.414810\n",
       "bq5     214.813034\n",
       "bq6     156.636520\n",
       "bq7     141.885742\n",
       "bq8     188.125107\n",
       "bq9     257.833588\n",
       "bq10    218.661865\n",
       "bp1      33.590897\n",
       "bp2      33.586800\n",
       "bp3      33.582836\n",
       "bp4      33.578896\n",
       "bp5      33.574944\n",
       "bp6      33.571003\n",
       "bp7      33.567036\n",
       "bp8      33.563084\n",
       "bp9      33.559135\n",
       "bp10     33.555195\n",
       "aq1     136.141190\n",
       "aq2     244.632965\n",
       "aq3     254.117783\n",
       "aq4     266.104797\n",
       "aq5     258.558197\n",
       "aq6     192.710114\n",
       "aq7     185.273071\n",
       "aq8     217.231796\n",
       "aq9     278.586456\n",
       "aq10    233.556351\n",
       "ap1      33.602913\n",
       "ap2      33.606972\n",
       "ap3      33.610939\n",
       "ap4      33.614880\n",
       "ap5      33.618832\n",
       "ap6      33.622780\n",
       "ap7      33.626724\n",
       "ap8      33.630669\n",
       "ap9      33.634613\n",
       "ap10     33.638561\n",
       "dtype: float32"
      ]
     },
     "execution_count": 87,
     "metadata": {},
     "output_type": "execute_result"
    }
   ],
   "source": [
    "df_avg_shape = df_q_calendar.astype('float32').mean(axis = 0)[:40]\n",
    "df_avg_shape"
   ]
  },
  {
   "cell_type": "code",
   "execution_count": 88,
   "metadata": {},
   "outputs": [
    {
     "data": {
      "text/plain": [
       "bq10    218.661865\n",
       "bq9     257.833588\n",
       "bq8     188.125107\n",
       "bq7     141.885742\n",
       "bq6     156.636520\n",
       "bq5     214.813034\n",
       "bq4     231.414810\n",
       "bq3     250.725922\n",
       "bq2     228.519714\n",
       "bq1     122.874542\n",
       "dtype: float32"
      ]
     },
     "execution_count": 88,
     "metadata": {},
     "output_type": "execute_result"
    }
   ],
   "source": [
    "df_bid_q = df_avg_shape.iloc[0:10][::-1]\n",
    "df_bid_q"
   ]
  },
  {
   "cell_type": "code",
   "execution_count": 90,
   "metadata": {},
   "outputs": [
    {
     "data": {
      "text/plain": [
       "aq1     136.141190\n",
       "aq2     244.632965\n",
       "aq3     254.117783\n",
       "aq4     266.104797\n",
       "aq5     258.558197\n",
       "aq6     192.710114\n",
       "aq7     185.273071\n",
       "aq8     217.231796\n",
       "aq9     278.586456\n",
       "aq10    233.556351\n",
       "dtype: float32"
      ]
     },
     "execution_count": 90,
     "metadata": {},
     "output_type": "execute_result"
    }
   ],
   "source": [
    "df_ask_q = df_avg_shape.iloc[20:30]\n",
    "df_ask_q"
   ]
  },
  {
   "cell_type": "code",
   "execution_count": 91,
   "metadata": {},
   "outputs": [
    {
     "data": {
      "text/plain": [
       "bp10    33.555195\n",
       "bp9     33.559135\n",
       "bp8     33.563084\n",
       "bp7     33.567036\n",
       "bp6     33.571003\n",
       "bp5     33.574944\n",
       "bp4     33.578896\n",
       "bp3     33.582836\n",
       "bp2     33.586800\n",
       "bp1     33.590897\n",
       "dtype: float32"
      ]
     },
     "execution_count": 91,
     "metadata": {},
     "output_type": "execute_result"
    }
   ],
   "source": [
    "df_bid_p = df_avg_shape.iloc[10:20][::-1]\n",
    "df_bid_p"
   ]
  },
  {
   "cell_type": "code",
   "execution_count": 92,
   "metadata": {},
   "outputs": [
    {
     "data": {
      "text/plain": [
       "ap1     33.602913\n",
       "ap2     33.606972\n",
       "ap3     33.610939\n",
       "ap4     33.614880\n",
       "ap5     33.618832\n",
       "ap6     33.622780\n",
       "ap7     33.626724\n",
       "ap8     33.630669\n",
       "ap9     33.634613\n",
       "ap10    33.638561\n",
       "dtype: float32"
      ]
     },
     "execution_count": 92,
     "metadata": {},
     "output_type": "execute_result"
    }
   ],
   "source": [
    "df_ask_p = df_avg_shape.iloc[30:40]\n",
    "df_ask_p"
   ]
  },
  {
   "cell_type": "code",
   "execution_count": 93,
   "metadata": {},
   "outputs": [
    {
     "data": {
      "text/plain": [
       "0.0039405823"
      ]
     },
     "execution_count": 93,
     "metadata": {},
     "output_type": "execute_result"
    }
   ],
   "source": [
    "approximate_tick_size = df_bid_p[1] - df_bid_p[0]\n",
    "approximate_tick_size"
   ]
  },
  {
   "cell_type": "code",
   "execution_count": 94,
   "metadata": {},
   "outputs": [
    {
     "name": "stderr",
     "output_type": "stream",
     "text": [
      "No artists with labels found to put in legend.  Note that artists whose label start with an underscore are ignored when legend() is called with no argument.\n"
     ]
    },
    {
     "data": {
      "text/plain": [
       "<matplotlib.legend.Legend at 0x7f29fc9a91f0>"
      ]
     },
     "execution_count": 94,
     "metadata": {},
     "output_type": "execute_result"
    },
    {
     "data": {
      "image/png": "[encoded data removed]",
      "text/plain": [
       "<Figure size 1300x700 with 1 Axes>"
      ]
     },
     "metadata": {},
     "output_type": "display_data"
    }
   ],
   "source": [
    "fig, ax = plt.subplots(figsize=(13, 7))\n",
    "ax.bar(x = df_bid_p.to_list(), \n",
    "        height = df_bid_q.to_list(),\n",
    "        width = approximate_tick_size)\n",
    "ax.bar(x = df_ask_p.to_list(), \n",
    "        height = df_ask_q.to_list(),\n",
    "        width = approximate_tick_size)\n",
    "ax.set_title('Average shape of the LOB.')\n",
    "ax.set_ylabel('volume')\n",
    "ax.set_xlabel('value')\n",
    "ax.xaxis.set_tick_params(rotation=45)\n",
    "ax.set_xticks(df_bid_p.to_list() + df_ask_p.to_list())\n",
    "ax.grid(True)\n",
    "ax.legend()"
   ]
  },
  {
   "attachments": {},
   "cell_type": "markdown",
   "metadata": {},
   "source": [
    "In calendar time, one gets roughly the same shape. Only the scale and the units are impacted."
   ]
  },
  {
   "cell_type": "code",
   "execution_count": null,
   "metadata": {},
   "outputs": [],
   "source": []
  }
 ],
 "metadata": {
  "kernelspec": {
   "display_name": "Python 3",
   "language": "python",
   "name": "python3"
  },
  "language_info": {
   "codemirror_mode": {
    "name": "ipython",
    "version": 3
   },
   "file_extension": ".py",
   "mimetype": "text/x-python",
   "name": "python",
   "nbconvert_exporter": "python",
   "pygments_lexer": "ipython3",
   "version": "3.8.15"
  },
  "orig_nbformat": 4,
  "vscode": {
   "interpreter": {
    "hash": "949777d72b0d2535278d3dc13498b2535136f6dfe0678499012e853ee9abcab1"
   }
  }
 },
 "nbformat": 4,
 "nbformat_minor": 2
}
